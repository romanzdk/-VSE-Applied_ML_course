{
  "nbformat": 4,
  "nbformat_minor": 0,
  "metadata": {
    "kernelspec": {
      "display_name": "Python 3",
      "language": "python",
      "name": "python3"
    },
    "language_info": {
      "codemirror_mode": {
        "name": "ipython",
        "version": 3
      },
      "file_extension": ".py",
      "mimetype": "text/x-python",
      "name": "python",
      "nbconvert_exporter": "python",
      "pygments_lexer": "ipython3",
      "version": "3.9.5"
    },
    "colab": {
      "name": "09_timeseries_my.ipynb",
      "provenance": []
    },
    "accelerator": "GPU"
  },
  "cells": [
    {
      "cell_type": "code",
      "metadata": {
        "id": "ypZThnqslyig"
      },
      "source": [
        "import tensorflow as tf\n",
        "from tensorflow import keras\n",
        "from tensorflow.keras import layers"
      ],
      "execution_count": 1,
      "outputs": []
    },
    {
      "cell_type": "code",
      "metadata": {
        "id": "kH-0Fw2flyim"
      },
      "source": [
        "# Hack pro GPU na Windows\n",
        "for gpu in tf.config.experimental.list_physical_devices('GPU'):\n",
        "    tf.config.experimental.set_memory_growth(gpu, True)"
      ],
      "execution_count": 2,
      "outputs": []
    },
    {
      "cell_type": "markdown",
      "metadata": {
        "id": "5nD0Jxeblyio"
      },
      "source": [
        "### Načteme data"
      ]
    },
    {
      "cell_type": "code",
      "metadata": {
        "id": "C73e5XEJlyiu"
      },
      "source": [
        "import numpy as np\n",
        "import os\n",
        "\n",
        "PATH = os.path.join(\"datasets\", \"09\", \"jena\")"
      ],
      "execution_count": 160,
      "outputs": []
    },
    {
      "cell_type": "code",
      "metadata": {
        "id": "xEJDtIuflyiw"
      },
      "source": [
        "import pandas as pd\n",
        "\n",
        "def load_data(file, path=PATH):\n",
        "    csv = os.path.join(path, file)\n",
        "    return pd.read_csv(csv)"
      ],
      "execution_count": 244,
      "outputs": []
    },
    {
      "cell_type": "code",
      "metadata": {
        "colab": {
          "base_uri": "https://localhost:8080/",
          "height": 206
        },
        "id": "4OhQJfoUlyix",
        "outputId": "b407c421-3570-4f9d-a161-1fb49160761c"
      },
      "source": [
        "data = pd.read_csv('/content/jena_climate_2009_2016.csv')\n",
        "data.head()"
      ],
      "execution_count": 245,
      "outputs": [
        {
          "output_type": "execute_result",
          "data": {
            "text/html": [
              "<div>\n",
              "<style scoped>\n",
              "    .dataframe tbody tr th:only-of-type {\n",
              "        vertical-align: middle;\n",
              "    }\n",
              "\n",
              "    .dataframe tbody tr th {\n",
              "        vertical-align: top;\n",
              "    }\n",
              "\n",
              "    .dataframe thead th {\n",
              "        text-align: right;\n",
              "    }\n",
              "</style>\n",
              "<table border=\"1\" class=\"dataframe\">\n",
              "  <thead>\n",
              "    <tr style=\"text-align: right;\">\n",
              "      <th></th>\n",
              "      <th>Date Time</th>\n",
              "      <th>p (mbar)</th>\n",
              "      <th>T (degC)</th>\n",
              "      <th>Tpot (K)</th>\n",
              "      <th>Tdew (degC)</th>\n",
              "      <th>rh (%)</th>\n",
              "      <th>VPmax (mbar)</th>\n",
              "      <th>VPact (mbar)</th>\n",
              "      <th>VPdef (mbar)</th>\n",
              "      <th>sh (g/kg)</th>\n",
              "      <th>H2OC (mmol/mol)</th>\n",
              "      <th>rho (g/m**3)</th>\n",
              "      <th>wv (m/s)</th>\n",
              "      <th>max. wv (m/s)</th>\n",
              "      <th>wd (deg)</th>\n",
              "    </tr>\n",
              "  </thead>\n",
              "  <tbody>\n",
              "    <tr>\n",
              "      <th>0</th>\n",
              "      <td>01.01.2009 00:10:00</td>\n",
              "      <td>996.52</td>\n",
              "      <td>-8.02</td>\n",
              "      <td>265.40</td>\n",
              "      <td>-8.90</td>\n",
              "      <td>93.3</td>\n",
              "      <td>3.33</td>\n",
              "      <td>3.11</td>\n",
              "      <td>0.22</td>\n",
              "      <td>1.94</td>\n",
              "      <td>3.12</td>\n",
              "      <td>1307.75</td>\n",
              "      <td>1.03</td>\n",
              "      <td>1.75</td>\n",
              "      <td>152.3</td>\n",
              "    </tr>\n",
              "    <tr>\n",
              "      <th>1</th>\n",
              "      <td>01.01.2009 00:20:00</td>\n",
              "      <td>996.57</td>\n",
              "      <td>-8.41</td>\n",
              "      <td>265.01</td>\n",
              "      <td>-9.28</td>\n",
              "      <td>93.4</td>\n",
              "      <td>3.23</td>\n",
              "      <td>3.02</td>\n",
              "      <td>0.21</td>\n",
              "      <td>1.89</td>\n",
              "      <td>3.03</td>\n",
              "      <td>1309.80</td>\n",
              "      <td>0.72</td>\n",
              "      <td>1.50</td>\n",
              "      <td>136.1</td>\n",
              "    </tr>\n",
              "    <tr>\n",
              "      <th>2</th>\n",
              "      <td>01.01.2009 00:30:00</td>\n",
              "      <td>996.53</td>\n",
              "      <td>-8.51</td>\n",
              "      <td>264.91</td>\n",
              "      <td>-9.31</td>\n",
              "      <td>93.9</td>\n",
              "      <td>3.21</td>\n",
              "      <td>3.01</td>\n",
              "      <td>0.20</td>\n",
              "      <td>1.88</td>\n",
              "      <td>3.02</td>\n",
              "      <td>1310.24</td>\n",
              "      <td>0.19</td>\n",
              "      <td>0.63</td>\n",
              "      <td>171.6</td>\n",
              "    </tr>\n",
              "    <tr>\n",
              "      <th>3</th>\n",
              "      <td>01.01.2009 00:40:00</td>\n",
              "      <td>996.51</td>\n",
              "      <td>-8.31</td>\n",
              "      <td>265.12</td>\n",
              "      <td>-9.07</td>\n",
              "      <td>94.2</td>\n",
              "      <td>3.26</td>\n",
              "      <td>3.07</td>\n",
              "      <td>0.19</td>\n",
              "      <td>1.92</td>\n",
              "      <td>3.08</td>\n",
              "      <td>1309.19</td>\n",
              "      <td>0.34</td>\n",
              "      <td>0.50</td>\n",
              "      <td>198.0</td>\n",
              "    </tr>\n",
              "    <tr>\n",
              "      <th>4</th>\n",
              "      <td>01.01.2009 00:50:00</td>\n",
              "      <td>996.51</td>\n",
              "      <td>-8.27</td>\n",
              "      <td>265.15</td>\n",
              "      <td>-9.04</td>\n",
              "      <td>94.1</td>\n",
              "      <td>3.27</td>\n",
              "      <td>3.08</td>\n",
              "      <td>0.19</td>\n",
              "      <td>1.92</td>\n",
              "      <td>3.09</td>\n",
              "      <td>1309.00</td>\n",
              "      <td>0.32</td>\n",
              "      <td>0.63</td>\n",
              "      <td>214.3</td>\n",
              "    </tr>\n",
              "  </tbody>\n",
              "</table>\n",
              "</div>"
            ],
            "text/plain": [
              "             Date Time  p (mbar)  T (degC)  ...  wv (m/s)  max. wv (m/s)  wd (deg)\n",
              "0  01.01.2009 00:10:00    996.52     -8.02  ...      1.03           1.75     152.3\n",
              "1  01.01.2009 00:20:00    996.57     -8.41  ...      0.72           1.50     136.1\n",
              "2  01.01.2009 00:30:00    996.53     -8.51  ...      0.19           0.63     171.6\n",
              "3  01.01.2009 00:40:00    996.51     -8.31  ...      0.34           0.50     198.0\n",
              "4  01.01.2009 00:50:00    996.51     -8.27  ...      0.32           0.63     214.3\n",
              "\n",
              "[5 rows x 15 columns]"
            ]
          },
          "metadata": {},
          "execution_count": 245
        }
      ]
    },
    {
      "cell_type": "code",
      "metadata": {
        "id": "lYYDsunvlyi1"
      },
      "source": [
        "train_index = 200000 # 0 - 200000 trénovací\n",
        "valid_index = 300000 # 200001 - 300000 validační\n",
        "                     # zbytek testovací"
      ],
      "execution_count": 246,
      "outputs": []
    },
    {
      "cell_type": "markdown",
      "metadata": {
        "id": "ebmwwMeYlyi4"
      },
      "source": [
        "**Nyní potřebujeme nachystat trénovací data**\n",
        "\n",
        "Trénovací data chceme mít např. v této podobě: \n",
        "- features: údaje za X dní zpátky od zvoleného bodu\n",
        "- label: údaj za 24 hodin do budoucna od zvoleného bodu\n",
        "\n",
        "Protože by bylo velmi neúsporné chystat takto postupně všechny posloupnosti dat, nachystáme si na to generátor, který bude trénovací data vytvářet za běhu.  "
      ]
    },
    {
      "cell_type": "markdown",
      "metadata": {
        "id": "2Or7yyPTlyi5"
      },
      "source": [
        "* `data`\n",
        "* `lookback`: kolik časových kroků zpátky chceme jít\n",
        "* `future`: kolik časových kroků do budoucna má být label\n",
        "* `min_index`, `max_index`: v jaké oblasti dat se chceme pohybovat (důležité, abychom nedostali testovací data do trénovacích)\n",
        "* `shuffle`: jestli se mají data vybírat náhodně z definované oblasti\n",
        "* `batch_size`\n",
        "* `step`: po kolika krocích vybírat data. 6 = 6x10 minut = hodina"
      ]
    },
    {
      "cell_type": "code",
      "metadata": {
        "id": "O1s9iSG_lyi7"
      },
      "source": [
        "lookback = 1440 # 10 dní zpátky \n",
        "step = 6  # po kolika krocích vybírat časové body\n",
        "future = 6*24 # 6 x 24 = 24 hodin dopředu\n",
        "batch_size = 128 \n",
        "timesteps_in_instance = int(lookback / step)"
      ],
      "execution_count": 247,
      "outputs": []
    },
    {
      "cell_type": "code",
      "metadata": {
        "id": "dCwf5_Q9lyi8"
      },
      "source": [
        "def generator(data, lookback, future, min_index, max_index, shuffle=False, batch_size=128, step=6):\n",
        "    if max_index is None:\n",
        "        max_index = len(data) - future - 1\n",
        "    i = min_index + lookback\n",
        "    while 1:\n",
        "        if shuffle:\n",
        "            rows = np.random.randint(min_index + lookback, max_index, size=batch_size)\n",
        "        else:\n",
        "            if i + batch_size >= max_index:\n",
        "                i = min_index + lookback\n",
        "            rows = np.arange(i, min(i + batch_size, max_index))\n",
        "            i += len(rows)\n",
        "\n",
        "        samples = np.zeros((len(rows),\n",
        "                           lookback // step,\n",
        "                           data.shape[-1]))\n",
        "        targets = np.zeros((len(rows),2))\n",
        "        for j, row in enumerate(rows):\n",
        "            indices = range(rows[j] - lookback, rows[j], step)\n",
        "            samples[j] = data[indices]\n",
        "            targets[j] = data[rows[j] + future][:2]\n",
        "            \n",
        "        yield samples, targets"
      ],
      "execution_count": 357,
      "outputs": []
    },
    {
      "cell_type": "markdown",
      "metadata": {
        "id": "LlhbTuE4lyi9"
      },
      "source": [
        "### Můžeme ještě vyzkoušet pracovat s periodicitou"
      ]
    },
    {
      "cell_type": "markdown",
      "metadata": {
        "id": "yoIvwW42lyi_"
      },
      "source": [
        "V případě časové řady s počasím se nabízí roční a denní periodicita"
      ]
    },
    {
      "cell_type": "code",
      "metadata": {
        "id": "8ZdczqOPlyjA"
      },
      "source": [
        "import time\n",
        "import datetime\n",
        "\n",
        "timestamps = pd.to_datetime(data['Date Time'], format='%d.%m.%Y %H:%M:%S').map(datetime.datetime.timestamp)"
      ],
      "execution_count": 249,
      "outputs": []
    },
    {
      "cell_type": "code",
      "metadata": {
        "id": "ts__gI4UlyjC"
      },
      "source": [
        "day = 24*60*60\n",
        "year = (364.2425)*day\n",
        "\n",
        "data['Day sin'] = np.sin(timestamps * (2 * np.pi / day))\n",
        "data['Day cos'] = np.cos(timestamps * (2 * np.pi / day))\n",
        "data['Year sin'] = np.sin(timestamps * (2 * np.pi / year))\n",
        "data['Year cos'] = np.cos(timestamps * (2 * np.pi / year))"
      ],
      "execution_count": 250,
      "outputs": []
    },
    {
      "cell_type": "code",
      "metadata": {
        "id": "cbW--kQOlyjE"
      },
      "source": [
        "data.drop(columns=['Date Time'], inplace=True)"
      ],
      "execution_count": 251,
      "outputs": []
    },
    {
      "cell_type": "code",
      "metadata": {
        "id": "p3PLGO_JlyjG"
      },
      "source": [
        "np_data = data.to_numpy()"
      ],
      "execution_count": 252,
      "outputs": []
    },
    {
      "cell_type": "code",
      "metadata": {
        "id": "7vmg0UFzlyjH"
      },
      "source": [
        "train_steps = (train_index - lookback) // batch_size\n",
        "valid_steps = (valid_index - train_index - lookback -1) // batch_size\n",
        "test_steps = (len(np_data) - valid_index - lookback -1) // batch_size"
      ],
      "execution_count": 253,
      "outputs": []
    },
    {
      "cell_type": "code",
      "metadata": {
        "id": "8L7ODv8YlyjI"
      },
      "source": [
        "# scaling\n",
        "mean = np_data[:train_index].mean(axis=0)\n",
        "np_data -= mean\n",
        "std = np_data[:train_index].std(axis=0)\n",
        "np_data /= std"
      ],
      "execution_count": 254,
      "outputs": []
    },
    {
      "cell_type": "code",
      "metadata": {
        "id": "r2f3XroNlyjJ"
      },
      "source": [
        "train_gen = generator(np_data,\n",
        "                      lookback=lookback,\n",
        "                      future=future,\n",
        "                      min_index=0,\n",
        "                      max_index=train_index,\n",
        "                      shuffle=True,\n",
        "                      step=step, \n",
        "                      batch_size=batch_size)\n",
        "\n",
        "valid_gen = generator(np_data,\n",
        "                    lookback=lookback,\n",
        "                    future=future,\n",
        "                    min_index=train_index+1,\n",
        "                    max_index=valid_index,\n",
        "                    step=step,\n",
        "                    batch_size=batch_size)\n",
        "\n",
        "test_gen = generator(np_data,\n",
        "                     lookback=lookback,\n",
        "                     future=future,\n",
        "                     min_index=valid_index+1,\n",
        "                     max_index=None,\n",
        "                     step=step,\n",
        "                     batch_size=batch_size)"
      ],
      "execution_count": 255,
      "outputs": []
    },
    {
      "cell_type": "code",
      "metadata": {
        "id": "y7WD3mBglyjK"
      },
      "source": [
        "(X, y) = next(train_gen)"
      ],
      "execution_count": 256,
      "outputs": []
    },
    {
      "cell_type": "code",
      "metadata": {
        "colab": {
          "base_uri": "https://localhost:8080/"
        },
        "id": "ux90xSd2lyjL",
        "outputId": "eb221a26-0445-4bab-f1bc-2d3014d3aee3"
      },
      "source": [
        "X.shape"
      ],
      "execution_count": 257,
      "outputs": [
        {
          "output_type": "execute_result",
          "data": {
            "text/plain": [
              "(128, 240, 18)"
            ]
          },
          "metadata": {},
          "execution_count": 257
        }
      ]
    },
    {
      "cell_type": "code",
      "metadata": {
        "colab": {
          "base_uri": "https://localhost:8080/"
        },
        "id": "mdz-l2QWp0y9",
        "outputId": "665b5556-14ca-4bce-9e21-d04dd81b4661"
      },
      "source": [
        "y.shape"
      ],
      "execution_count": 258,
      "outputs": [
        {
          "output_type": "execute_result",
          "data": {
            "text/plain": [
              "(128, 2)"
            ]
          },
          "metadata": {},
          "execution_count": 258
        }
      ]
    },
    {
      "cell_type": "code",
      "metadata": {
        "colab": {
          "base_uri": "https://localhost:8080/"
        },
        "id": "gThJJi2GrvDe",
        "outputId": "6ed7b5b5-a6d3-4bd2-c589-7cd5ddee1658"
      },
      "source": [
        "np_data.shape"
      ],
      "execution_count": 259,
      "outputs": [
        {
          "output_type": "execute_result",
          "data": {
            "text/plain": [
              "(420551, 18)"
            ]
          },
          "metadata": {},
          "execution_count": 259
        }
      ]
    },
    {
      "cell_type": "code",
      "metadata": {
        "colab": {
          "base_uri": "https://localhost:8080/"
        },
        "id": "KY6vQZjqsCq9",
        "outputId": "8c22f68e-93b9-4271-c8d3-8807a10a0e58"
      },
      "source": [
        "timesteps_in_instance"
      ],
      "execution_count": 260,
      "outputs": [
        {
          "output_type": "execute_result",
          "data": {
            "text/plain": [
              "240"
            ]
          },
          "metadata": {},
          "execution_count": 260
        }
      ]
    },
    {
      "cell_type": "code",
      "metadata": {
        "id": "MtXrELQwlyjM"
      },
      "source": [
        "model = keras.models.Sequential([\n",
        "    layers.GRU(32, return_sequences=True, input_shape=(timesteps_in_instance, np_data.shape[1])),\n",
        "    # layers.GRU(32),\n",
        "    layers.Flatten(),\n",
        "    layers.Dense(2),\n",
        "])"
      ],
      "execution_count": 261,
      "outputs": []
    },
    {
      "cell_type": "code",
      "metadata": {
        "id": "onDfI8fAlyjO"
      },
      "source": [
        "model.compile(optimizer=keras.optimizers.RMSprop(learning_rate=0.0001), loss='mae')"
      ],
      "execution_count": 262,
      "outputs": []
    },
    {
      "cell_type": "code",
      "metadata": {
        "id": "ysG_nXzhlyjP"
      },
      "source": [
        "early_stopping = keras.callbacks.EarlyStopping(patience=3, restore_best_weights=True)\n",
        "checkpoint = keras.callbacks.ModelCheckpoint(filepath='/content/09_timeseries_gru_multi_period.keras', save_best_only=True, monitor='val_loss')"
      ],
      "execution_count": 263,
      "outputs": []
    },
    {
      "cell_type": "code",
      "metadata": {
        "colab": {
          "base_uri": "https://localhost:8080/"
        },
        "id": "mz2J21OflyjP",
        "outputId": "d99f4662-6253-479a-b33d-afd976c94574"
      },
      "source": [
        "history = model.fit(train_gen,\n",
        "                    steps_per_epoch=train_steps,\n",
        "                    epochs=10,\n",
        "                    validation_data=valid_gen,\n",
        "                    validation_steps=valid_steps,\n",
        "                    callbacks=[early_stopping, checkpoint])"
      ],
      "execution_count": 264,
      "outputs": [
        {
          "output_type": "stream",
          "name": "stdout",
          "text": [
            "Epoch 1/10\n",
            "1551/1551 [==============================] - 78s 49ms/step - loss: 0.4237 - val_loss: 0.4239\n",
            "Epoch 2/10\n",
            "1551/1551 [==============================] - 76s 49ms/step - loss: 0.3806 - val_loss: 0.4181\n",
            "Epoch 3/10\n",
            "1551/1551 [==============================] - 75s 49ms/step - loss: 0.3619 - val_loss: 0.4144\n",
            "Epoch 4/10\n",
            "1551/1551 [==============================] - 76s 49ms/step - loss: 0.3485 - val_loss: 0.4238\n",
            "Epoch 5/10\n",
            "1551/1551 [==============================] - 76s 49ms/step - loss: 0.3390 - val_loss: 0.4256\n",
            "Epoch 6/10\n",
            "1551/1551 [==============================] - 76s 49ms/step - loss: 0.3295 - val_loss: 0.4283\n"
          ]
        }
      ]
    },
    {
      "cell_type": "code",
      "metadata": {
        "colab": {
          "base_uri": "https://localhost:8080/",
          "height": 282
        },
        "id": "Zm-7RONylyjQ",
        "outputId": "e4e1cd1b-bda8-46f4-eb98-3af88ca31e87"
      },
      "source": [
        "pd.DataFrame(history.history)[['loss', 'val_loss']].plot()"
      ],
      "execution_count": 265,
      "outputs": [
        {
          "output_type": "execute_result",
          "data": {
            "text/plain": [
              "<matplotlib.axes._subplots.AxesSubplot at 0x7f91e5b96750>"
            ]
          },
          "metadata": {},
          "execution_count": 265
        },
        {
          "output_type": "display_data",
          "data": {
            "image/png": "[encoded data removed]",
            "text/plain": [
              "<Figure size 432x288 with 1 Axes>"
            ]
          },
          "metadata": {
            "needs_background": "light"
          }
        }
      ]
    },
    {
      "cell_type": "code",
      "metadata": {
        "colab": {
          "base_uri": "https://localhost:8080/"
        },
        "id": "8ZSQGrt3lyjS",
        "outputId": "d8ac7c1e-a630-4f0a-b52d-2ccc921227ca"
      },
      "source": [
        "np.min(history.history['val_loss'])"
      ],
      "execution_count": 266,
      "outputs": [
        {
          "output_type": "execute_result",
          "data": {
            "text/plain": [
              "0.4143916964530945"
            ]
          },
          "metadata": {},
          "execution_count": 266
        }
      ]
    },
    {
      "cell_type": "code",
      "metadata": {
        "id": "ZWw4hZIzlyjS"
      },
      "source": [
        "model = keras.models.load_model('/content/09_timeseries_gru_multi_period.keras')"
      ],
      "execution_count": 267,
      "outputs": []
    },
    {
      "cell_type": "code",
      "metadata": {
        "colab": {
          "base_uri": "https://localhost:8080/"
        },
        "id": "2YxRc4I2lyjT",
        "outputId": "0b6768f1-7a01-4e74-b158-eaabfa5d0c88"
      },
      "source": [
        "model.evaluate(test_gen, steps=test_steps)"
      ],
      "execution_count": 268,
      "outputs": [
        {
          "output_type": "stream",
          "name": "stdout",
          "text": [
            "930/930 [==============================] - 18s 19ms/step - loss: 0.4329\n"
          ]
        },
        {
          "output_type": "execute_result",
          "data": {
            "text/plain": [
              "0.4329393804073334"
            ]
          },
          "metadata": {},
          "execution_count": 268
        }
      ]
    },
    {
      "cell_type": "markdown",
      "metadata": {
        "id": "mPFPrAa8-vvF"
      },
      "source": [
        "# Predikce pro jednu dávku"
      ]
    },
    {
      "cell_type": "code",
      "metadata": {
        "id": "GdYxevBzlyjU"
      },
      "source": [
        "(one_X, one_y) = next(test_gen)"
      ],
      "execution_count": 269,
      "outputs": []
    },
    {
      "cell_type": "code",
      "metadata": {
        "id": "ApJQOMBY461Y"
      },
      "source": [
        "res = model.predict(one_X)"
      ],
      "execution_count": 276,
      "outputs": []
    },
    {
      "cell_type": "code",
      "metadata": {
        "colab": {
          "base_uri": "https://localhost:8080/"
        },
        "id": "2xz9y3b-AP-K",
        "outputId": "7e78596a-57f9-4fc0-a971-73fda2643454"
      },
      "source": [
        "res.shape"
      ],
      "execution_count": 313,
      "outputs": [
        {
          "output_type": "execute_result",
          "data": {
            "text/plain": [
              "(128, 2)"
            ]
          },
          "metadata": {},
          "execution_count": 313
        }
      ]
    },
    {
      "cell_type": "code",
      "metadata": {
        "colab": {
          "base_uri": "https://localhost:8080/",
          "height": 298
        },
        "id": "UtnkSuld9PBL",
        "outputId": "291495a0-8ea1-43ea-ecb5-d2ca60619957"
      },
      "source": [
        "pd.DataFrame(np.vstack((res[:,0], one_y[:,0]))).T.rename({0:'Predicted', 1:'Actual'}, axis=1).plot(title='Pressure')"
      ],
      "execution_count": 317,
      "outputs": [
        {
          "output_type": "execute_result",
          "data": {
            "text/plain": [
              "<matplotlib.axes._subplots.AxesSubplot at 0x7f92907e52d0>"
            ]
          },
          "metadata": {},
          "execution_count": 317
        },
        {
          "output_type": "display_data",
          "data": {
            "image/png": "[encoded data removed]",
            "text/plain": [
              "<Figure size 432x288 with 1 Axes>"
            ]
          },
          "metadata": {
            "needs_background": "light"
          }
        }
      ]
    },
    {
      "cell_type": "code",
      "metadata": {
        "colab": {
          "base_uri": "https://localhost:8080/",
          "height": 298
        },
        "id": "S4zk-JMb6VCw",
        "outputId": "00db017b-7dd4-45ae-f4fe-0c6cb543680c"
      },
      "source": [
        "pd.DataFrame(np.vstack((res[:,1], one_y[:,1]))).T.rename({0:'Predicted', 1:'Actual'}, axis=1).plot(title='Temperature')"
      ],
      "execution_count": 308,
      "outputs": [
        {
          "output_type": "execute_result",
          "data": {
            "text/plain": [
              "<matplotlib.axes._subplots.AxesSubplot at 0x7f91f5b269d0>"
            ]
          },
          "metadata": {},
          "execution_count": 308
        },
        {
          "output_type": "display_data",
          "data": {
            "image/png": "[encoded data removed]",
            "text/plain": [
              "<Figure size 432x288 with 1 Axes>"
            ]
          },
          "metadata": {
            "needs_background": "light"
          }
        }
      ]
    },
    {
      "cell_type": "code",
      "metadata": {
        "id": "fJwa9AJI6U8z"
      },
      "source": [
        ""
      ],
      "execution_count": null,
      "outputs": []
    },
    {
      "cell_type": "markdown",
      "metadata": {
        "id": "jBea8n1E4667"
      },
      "source": [
        "# Sekvence"
      ]
    },
    {
      "cell_type": "code",
      "metadata": {
        "id": "uy5YUfHR5V2n"
      },
      "source": [
        "lookback = 1440 # 10 dní zpátky \n",
        "step = 6  # po kolika krocích vybírat časové body\n",
        "future = 6 # 6 x 24 = 24 hodin dopředu\n",
        "batch_size = 128 \n",
        "timesteps_in_instance = int(lookback / step)"
      ],
      "execution_count": 407,
      "outputs": []
    },
    {
      "cell_type": "code",
      "metadata": {
        "id": "wNdCL7I85ZGw"
      },
      "source": [
        "train_steps = (train_index - lookback) // batch_size\n",
        "valid_steps = (valid_index - train_index - lookback -1) // batch_size\n",
        "test_steps = (len(np_data) - valid_index - lookback -1) // batch_size"
      ],
      "execution_count": 408,
      "outputs": []
    },
    {
      "cell_type": "code",
      "metadata": {
        "id": "6ncE8H_q48NK"
      },
      "source": [
        "train_gen = generator(np_data,\n",
        "                      lookback=lookback,\n",
        "                      future=future,\n",
        "                      min_index=0,\n",
        "                      max_index=train_index,\n",
        "                      shuffle=True,\n",
        "                      step=step, \n",
        "                      batch_size=batch_size)\n",
        "\n",
        "valid_gen = generator(np_data,\n",
        "                    lookback=lookback,\n",
        "                    future=future,\n",
        "                    min_index=train_index+1,\n",
        "                    max_index=valid_index,\n",
        "                    step=step,\n",
        "                    batch_size=batch_size)\n",
        "\n",
        "test_gen = generator(np_data,\n",
        "                     lookback=lookback,\n",
        "                     future=future,\n",
        "                     min_index=valid_index+1,\n",
        "                     max_index=None,\n",
        "                     step=step,\n",
        "                     batch_size=batch_size)"
      ],
      "execution_count": 409,
      "outputs": []
    },
    {
      "cell_type": "code",
      "metadata": {
        "id": "0dv2VtSC5H1d"
      },
      "source": [
        "model = keras.models.Sequential([\n",
        "    layers.GRU(32, return_sequences=True, input_shape=(timesteps_in_instance, np_data.shape[1])),\n",
        "    layers.Flatten(),\n",
        "    layers.Dense(2*24),\n",
        "    layers.Reshape([24, 2])\n",
        "])"
      ],
      "execution_count": 410,
      "outputs": []
    },
    {
      "cell_type": "code",
      "metadata": {
        "colab": {
          "base_uri": "https://localhost:8080/"
        },
        "id": "GiA1jWZWIjMM",
        "outputId": "bd38815e-2902-4cfc-ca95-0609c5e51b7a"
      },
      "source": [
        "model.summary()"
      ],
      "execution_count": 411,
      "outputs": [
        {
          "output_type": "stream",
          "name": "stdout",
          "text": [
            "Model: \"sequential_28\"\n",
            "_________________________________________________________________\n",
            " Layer (type)                Output Shape              Param #   \n",
            "=================================================================\n",
            " gru_29 (GRU)                (None, 240, 32)           4992      \n",
            "                                                                 \n",
            " flatten_14 (Flatten)        (None, 7680)              0         \n",
            "                                                                 \n",
            " dense_28 (Dense)            (None, 48)                368688    \n",
            "                                                                 \n",
            " reshape_9 (Reshape)         (None, 24, 2)             0         \n",
            "                                                                 \n",
            "=================================================================\n",
            "Total params: 373,680\n",
            "Trainable params: 373,680\n",
            "Non-trainable params: 0\n",
            "_________________________________________________________________\n"
          ]
        }
      ]
    },
    {
      "cell_type": "code",
      "metadata": {
        "id": "PHMpKpq95H1e"
      },
      "source": [
        "model.compile(optimizer=keras.optimizers.RMSprop(learning_rate=0.0001), loss='mae')"
      ],
      "execution_count": 412,
      "outputs": []
    },
    {
      "cell_type": "code",
      "metadata": {
        "id": "wCEe7qD-5H1f"
      },
      "source": [
        "early_stopping = keras.callbacks.EarlyStopping(patience=3, restore_best_weights=True)\n",
        "checkpoint = keras.callbacks.ModelCheckpoint(filepath='/content/09_timeseries_gru_multi_period.keras', save_best_only=True, monitor='val_loss')"
      ],
      "execution_count": 413,
      "outputs": []
    },
    {
      "cell_type": "code",
      "metadata": {
        "colab": {
          "base_uri": "https://localhost:8080/",
          "height": 1000
        },
        "id": "VGE-S38I5H1f",
        "outputId": "36159ce1-6fa2-44e8-f5b0-c1dca0ca5e42"
      },
      "source": [
        "history = model.fit(train_gen,\n",
        "                    steps_per_epoch=train_steps,\n",
        "                    epochs=10,\n",
        "                    validation_data=valid_gen,\n",
        "                    validation_steps=valid_steps,\n",
        "                    callbacks=[early_stopping, checkpoint])"
      ],
      "execution_count": 414,
      "outputs": [
        {
          "output_type": "stream",
          "name": "stdout",
          "text": [
            "Epoch 1/10\n"
          ]
        },
        {
          "output_type": "error",
          "ename": "InvalidArgumentError",
          "evalue": "ignored",
          "traceback": [
            "\u001b[0;31m---------------------------------------------------------------------------\u001b[0m",
            "\u001b[0;31mInvalidArgumentError\u001b[0m                      Traceback (most recent call last)",
            "\u001b[0;32m<ipython-input-414-3c45115dab1c>\u001b[0m in \u001b[0;36m<module>\u001b[0;34m()\u001b[0m\n\u001b[1;32m      4\u001b[0m                     \u001b[0mvalidation_data\u001b[0m\u001b[0;34m=\u001b[0m\u001b[0mvalid_gen\u001b[0m\u001b[0;34m,\u001b[0m\u001b[0;34m\u001b[0m\u001b[0;34m\u001b[0m\u001b[0m\n\u001b[1;32m      5\u001b[0m                     \u001b[0mvalidation_steps\u001b[0m\u001b[0;34m=\u001b[0m\u001b[0mvalid_steps\u001b[0m\u001b[0;34m,\u001b[0m\u001b[0;34m\u001b[0m\u001b[0;34m\u001b[0m\u001b[0m\n\u001b[0;32m----> 6\u001b[0;31m                     callbacks=[early_stopping, checkpoint])\n\u001b[0m",
            "\u001b[0;32m/usr/local/lib/python3.7/dist-packages/keras/utils/traceback_utils.py\u001b[0m in \u001b[0;36merror_handler\u001b[0;34m(*args, **kwargs)\u001b[0m\n\u001b[1;32m     65\u001b[0m     \u001b[0;32mexcept\u001b[0m \u001b[0mException\u001b[0m \u001b[0;32mas\u001b[0m \u001b[0me\u001b[0m\u001b[0;34m:\u001b[0m  \u001b[0;31m# pylint: disable=broad-except\u001b[0m\u001b[0;34m\u001b[0m\u001b[0;34m\u001b[0m\u001b[0m\n\u001b[1;32m     66\u001b[0m       \u001b[0mfiltered_tb\u001b[0m \u001b[0;34m=\u001b[0m \u001b[0m_process_traceback_frames\u001b[0m\u001b[0;34m(\u001b[0m\u001b[0me\u001b[0m\u001b[0;34m.\u001b[0m\u001b[0m__traceback__\u001b[0m\u001b[0;34m)\u001b[0m\u001b[0;34m\u001b[0m\u001b[0;34m\u001b[0m\u001b[0m\n\u001b[0;32m---> 67\u001b[0;31m       \u001b[0;32mraise\u001b[0m \u001b[0me\u001b[0m\u001b[0;34m.\u001b[0m\u001b[0mwith_traceback\u001b[0m\u001b[0;34m(\u001b[0m\u001b[0mfiltered_tb\u001b[0m\u001b[0;34m)\u001b[0m \u001b[0;32mfrom\u001b[0m \u001b[0;32mNone\u001b[0m\u001b[0;34m\u001b[0m\u001b[0;34m\u001b[0m\u001b[0m\n\u001b[0m\u001b[1;32m     68\u001b[0m     \u001b[0;32mfinally\u001b[0m\u001b[0;34m:\u001b[0m\u001b[0;34m\u001b[0m\u001b[0;34m\u001b[0m\u001b[0m\n\u001b[1;32m     69\u001b[0m       \u001b[0;32mdel\u001b[0m \u001b[0mfiltered_tb\u001b[0m\u001b[0;34m\u001b[0m\u001b[0;34m\u001b[0m\u001b[0m\n",
            "\u001b[0;32m/usr/local/lib/python3.7/dist-packages/tensorflow/python/eager/execute.py\u001b[0m in \u001b[0;36mquick_execute\u001b[0;34m(op_name, num_outputs, inputs, attrs, ctx, name)\u001b[0m\n\u001b[1;32m     57\u001b[0m     \u001b[0mctx\u001b[0m\u001b[0;34m.\u001b[0m\u001b[0mensure_initialized\u001b[0m\u001b[0;34m(\u001b[0m\u001b[0;34m)\u001b[0m\u001b[0;34m\u001b[0m\u001b[0;34m\u001b[0m\u001b[0m\n\u001b[1;32m     58\u001b[0m     tensors = pywrap_tfe.TFE_Py_Execute(ctx._handle, device_name, op_name,\n\u001b[0;32m---> 59\u001b[0;31m                                         inputs, attrs, num_outputs)\n\u001b[0m\u001b[1;32m     60\u001b[0m   \u001b[0;32mexcept\u001b[0m \u001b[0mcore\u001b[0m\u001b[0;34m.\u001b[0m\u001b[0m_NotOkStatusException\u001b[0m \u001b[0;32mas\u001b[0m \u001b[0me\u001b[0m\u001b[0;34m:\u001b[0m\u001b[0;34m\u001b[0m\u001b[0;34m\u001b[0m\u001b[0m\n\u001b[1;32m     61\u001b[0m     \u001b[0;32mif\u001b[0m \u001b[0mname\u001b[0m \u001b[0;32mis\u001b[0m \u001b[0;32mnot\u001b[0m \u001b[0;32mNone\u001b[0m\u001b[0;34m:\u001b[0m\u001b[0;34m\u001b[0m\u001b[0;34m\u001b[0m\u001b[0m\n",
            "\u001b[0;31mInvalidArgumentError\u001b[0m:  required broadcastable shapes\n\t [[node mean_absolute_error/sub\n (defined at /usr/local/lib/python3.7/dist-packages/keras/losses.py:1332)\n]] [Op:__inference_train_function_191801]\n\nErrors may have originated from an input operation.\nInput Source operations connected to node mean_absolute_error/sub:\nIn[0] sequential_28/reshape_9/Reshape (defined at /usr/local/lib/python3.7/dist-packages/keras/layers/core/reshape.py:126)\t\nIn[1] IteratorGetNext (defined at /usr/local/lib/python3.7/dist-packages/keras/engine/training.py:866)\n\nOperation defined at: (most recent call last)\n>>>   File \"/usr/lib/python3.7/runpy.py\", line 193, in _run_module_as_main\n>>>     \"__main__\", mod_spec)\n>>> \n>>>   File \"/usr/lib/python3.7/runpy.py\", line 85, in _run_code\n>>>     exec(code, run_globals)\n>>> \n>>>   File \"/usr/local/lib/python3.7/dist-packages/ipykernel_launcher.py\", line 16, in <module>\n>>>     app.launch_new_instance()\n>>> \n>>>   File \"/usr/local/lib/python3.7/dist-packages/traitlets/config/application.py\", line 846, in launch_instance\n>>>     app.start()\n>>> \n>>>   File \"/usr/local/lib/python3.7/dist-packages/ipykernel/kernelapp.py\", line 499, in start\n>>>     self.io_loop.start()\n>>> \n>>>   File \"/usr/local/lib/python3.7/dist-packages/tornado/platform/asyncio.py\", line 132, in start\n>>>     self.asyncio_loop.run_forever()\n>>> \n>>>   File \"/usr/lib/python3.7/asyncio/base_events.py\", line 541, in run_forever\n>>>     self._run_once()\n>>> \n>>>   File \"/usr/lib/python3.7/asyncio/base_events.py\", line 1786, in _run_once\n>>>     handle._run()\n>>> \n>>>   File \"/usr/lib/python3.7/asyncio/events.py\", line 88, in _run\n>>>     self._context.run(self._callback, *self._args)\n>>> \n>>>   File \"/usr/local/lib/python3.7/dist-packages/tornado/platform/asyncio.py\", line 122, in _handle_events\n>>>     handler_func(fileobj, events)\n>>> \n>>>   File \"/usr/local/lib/python3.7/dist-packages/tornado/stack_context.py\", line 300, in null_wrapper\n>>>     return fn(*args, **kwargs)\n>>> \n>>>   File \"/usr/local/lib/python3.7/dist-packages/zmq/eventloop/zmqstream.py\", line 452, in _handle_events\n>>>     self._handle_recv()\n>>> \n>>>   File \"/usr/local/lib/python3.7/dist-packages/zmq/eventloop/zmqstream.py\", line 481, in _handle_recv\n>>>     self._run_callback(callback, msg)\n>>> \n>>>   File \"/usr/local/lib/python3.7/dist-packages/zmq/eventloop/zmqstream.py\", line 431, in _run_callback\n>>>     callback(*args, **kwargs)\n>>> \n>>>   File \"/usr/local/lib/python3.7/dist-packages/tornado/stack_context.py\", line 300, in null_wrapper\n>>>     return fn(*args, **kwargs)\n>>> \n>>>   File \"/usr/local/lib/python3.7/dist-packages/ipykernel/kernelbase.py\", line 283, in dispatcher\n>>>     return self.dispatch_shell(stream, msg)\n>>> \n>>>   File \"/usr/local/lib/python3.7/dist-packages/ipykernel/kernelbase.py\", line 233, in dispatch_shell\n>>>     handler(stream, idents, msg)\n>>> \n>>>   File \"/usr/local/lib/python3.7/dist-packages/ipykernel/kernelbase.py\", line 399, in execute_request\n>>>     user_expressions, allow_stdin)\n>>> \n>>>   File \"/usr/local/lib/python3.7/dist-packages/ipykernel/ipkernel.py\", line 208, in do_execute\n>>>     res = shell.run_cell(code, store_history=store_history, silent=silent)\n>>> \n>>>   File \"/usr/local/lib/python3.7/dist-packages/ipykernel/zmqshell.py\", line 537, in run_cell\n>>>     return super(ZMQInteractiveShell, self).run_cell(*args, **kwargs)\n>>> \n>>>   File \"/usr/local/lib/python3.7/dist-packages/IPython/core/interactiveshell.py\", line 2718, in run_cell\n>>>     interactivity=interactivity, compiler=compiler, result=result)\n>>> \n>>>   File \"/usr/local/lib/python3.7/dist-packages/IPython/core/interactiveshell.py\", line 2822, in run_ast_nodes\n>>>     if self.run_code(code, result):\n>>> \n>>>   File \"/usr/local/lib/python3.7/dist-packages/IPython/core/interactiveshell.py\", line 2882, in run_code\n>>>     exec(code_obj, self.user_global_ns, self.user_ns)\n>>> \n>>>   File \"<ipython-input-414-3c45115dab1c>\", line 6, in <module>\n>>>     callbacks=[early_stopping, checkpoint])\n>>> \n>>>   File \"/usr/local/lib/python3.7/dist-packages/keras/utils/traceback_utils.py\", line 64, in error_handler\n>>>     return fn(*args, **kwargs)\n>>> \n>>>   File \"/usr/local/lib/python3.7/dist-packages/keras/engine/training.py\", line 1216, in fit\n>>>     tmp_logs = self.train_function(iterator)\n>>> \n>>>   File \"/usr/local/lib/python3.7/dist-packages/keras/engine/training.py\", line 878, in train_function\n>>>     return step_function(self, iterator)\n>>> \n>>>   File \"/usr/local/lib/python3.7/dist-packages/keras/engine/training.py\", line 867, in step_function\n>>>     outputs = model.distribute_strategy.run(run_step, args=(data,))\n>>> \n>>>   File \"/usr/local/lib/python3.7/dist-packages/keras/engine/training.py\", line 860, in run_step\n>>>     outputs = model.train_step(data)\n>>> \n>>>   File \"/usr/local/lib/python3.7/dist-packages/keras/engine/training.py\", line 810, in train_step\n>>>     y, y_pred, sample_weight, regularization_losses=self.losses)\n>>> \n>>>   File \"/usr/local/lib/python3.7/dist-packages/keras/engine/compile_utils.py\", line 201, in __call__\n>>>     loss_value = loss_obj(y_t, y_p, sample_weight=sw)\n>>> \n>>>   File \"/usr/local/lib/python3.7/dist-packages/keras/losses.py\", line 141, in __call__\n>>>     losses = call_fn(y_true, y_pred)\n>>> \n>>>   File \"/usr/local/lib/python3.7/dist-packages/keras/losses.py\", line 245, in call\n>>>     return ag_fn(y_true, y_pred, **self._fn_kwargs)\n>>> \n>>>   File \"/usr/local/lib/python3.7/dist-packages/keras/losses.py\", line 1332, in mean_absolute_error\n>>>     return backend.mean(tf.abs(y_pred - y_true), axis=-1)\n>>> "
          ]
        }
      ]
    },
    {
      "cell_type": "code",
      "metadata": {
        "colab": {
          "base_uri": "https://localhost:8080/",
          "height": 282
        },
        "id": "Z76ib3bX5H1g",
        "outputId": "1821d9d0-35b3-41c5-a0be-c910c8acae78"
      },
      "source": [
        "pd.DataFrame(history.history)[['loss', 'val_loss']].plot()"
      ],
      "execution_count": null,
      "outputs": [
        {
          "output_type": "execute_result",
          "data": {
            "text/plain": [
              "<matplotlib.axes._subplots.AxesSubplot at 0x7f91e2544ed0>"
            ]
          },
          "metadata": {},
          "execution_count": 195
        },
        {
          "output_type": "display_data",
          "data": {
            "image/png": "[encoded data removed]",
            "text/plain": [
              "<Figure size 432x288 with 1 Axes>"
            ]
          },
          "metadata": {
            "needs_background": "light"
          }
        }
      ]
    },
    {
      "cell_type": "code",
      "metadata": {
        "colab": {
          "base_uri": "https://localhost:8080/"
        },
        "id": "4egtL_Dx5H1h",
        "outputId": "4a57044f-c3f2-48aa-cc71-c94f98cb3a7c"
      },
      "source": [
        "np.min(history.history['val_loss'])"
      ],
      "execution_count": null,
      "outputs": [
        {
          "output_type": "execute_result",
          "data": {
            "text/plain": [
              "0.4097098410129547"
            ]
          },
          "metadata": {},
          "execution_count": 196
        }
      ]
    },
    {
      "cell_type": "code",
      "metadata": {
        "id": "4-CCDyLD5H1h"
      },
      "source": [
        "model = keras.models.load_model('/content/09_timeseries_gru_multi_period.keras')"
      ],
      "execution_count": null,
      "outputs": []
    },
    {
      "cell_type": "code",
      "metadata": {
        "colab": {
          "base_uri": "https://localhost:8080/"
        },
        "id": "zAqeZdYA5H1i",
        "outputId": "88c5e5a5-7a42-4b35-816b-0b588c6398c5"
      },
      "source": [
        "model.evaluate(test_gen, steps=test_steps)"
      ],
      "execution_count": null,
      "outputs": [
        {
          "output_type": "stream",
          "name": "stdout",
          "text": [
            "930/930 [==============================] - 19s 19ms/step - loss: 0.4284\n"
          ]
        },
        {
          "output_type": "execute_result",
          "data": {
            "text/plain": [
              "0.4284306764602661"
            ]
          },
          "metadata": {},
          "execution_count": 198
        }
      ]
    }
  ]
}