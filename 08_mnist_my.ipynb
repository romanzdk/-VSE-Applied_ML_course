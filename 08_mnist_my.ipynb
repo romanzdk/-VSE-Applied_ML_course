{
  "nbformat": 4,
  "nbformat_minor": 0,
  "metadata": {
    "kernelspec": {
      "display_name": "Python 3",
      "language": "python",
      "name": "python3"
    },
    "language_info": {
      "codemirror_mode": {
        "name": "ipython",
        "version": 3
      },
      "file_extension": ".py",
      "mimetype": "text/x-python",
      "name": "python",
      "nbconvert_exporter": "python",
      "pygments_lexer": "ipython3",
      "version": "3.9.5"
    },
    "colab": {
      "name": "08_mnist_my.ipynb",
      "provenance": [],
      "collapsed_sections": []
    },
    "accelerator": "GPU"
  },
  "cells": [
    {
      "cell_type": "code",
      "metadata": {
        "id": "gaYB_WXLwFC_"
      },
      "source": [
        "import tensorflow as tf\n",
        "from tensorflow import keras\n",
        "\n",
        "from keras.preprocessing.image import ImageDataGenerator\n",
        "from keras.models import Sequential\n",
        "from keras.layers import Dense, Dropout, Flatten, Conv2D, BatchNormalization"
      ],
      "execution_count": 1,
      "outputs": []
    },
    {
      "cell_type": "markdown",
      "metadata": {
        "id": "V9EhvjBEwFDC"
      },
      "source": [
        "### Načteme data"
      ]
    },
    {
      "cell_type": "code",
      "metadata": {
        "colab": {
          "base_uri": "https://localhost:8080/"
        },
        "id": "C94jIkU8wFDE",
        "outputId": "42e32dac-0d9a-40a5-8abb-d4ff1ad9bf5e"
      },
      "source": [
        "(X_train_full, y_train_full), (X_test, y_test) = keras.datasets.mnist.load_data()"
      ],
      "execution_count": 2,
      "outputs": [
        {
          "output_type": "stream",
          "name": "stdout",
          "text": [
            "Downloading data from https://storage.googleapis.com/tensorflow/tf-keras-datasets/mnist.npz\n",
            "11493376/11490434 [==============================] - 0s 0us/step\n",
            "11501568/11490434 [==============================] - 0s 0us/step\n"
          ]
        }
      ]
    },
    {
      "cell_type": "code",
      "metadata": {
        "id": "3I7YlNewwFDE"
      },
      "source": [
        "X_valid, X_train = X_train_full[:5000], X_train_full[5000:]\n",
        "y_valid, y_train = y_train_full[:5000], y_train_full[5000:]"
      ],
      "execution_count": 3,
      "outputs": []
    },
    {
      "cell_type": "markdown",
      "metadata": {
        "id": "QEgjDQXjwFDF"
      },
      "source": [
        "### Připravíme data"
      ]
    },
    {
      "cell_type": "code",
      "metadata": {
        "id": "jHMgfXKOwFDG"
      },
      "source": [
        "X_train = X_train / 255.\n",
        "X_valid = X_valid / 255.\n",
        "X_test = X_test / 255."
      ],
      "execution_count": 4,
      "outputs": []
    },
    {
      "cell_type": "code",
      "metadata": {
        "id": "keB4eR0wwFDG"
      },
      "source": [
        "import numpy as np \n",
        "\n",
        "X_train = X_train[..., np.newaxis]\n",
        "X_valid = X_valid[..., np.newaxis]\n",
        "X_test = X_test[..., np.newaxis]"
      ],
      "execution_count": 5,
      "outputs": []
    },
    {
      "cell_type": "markdown",
      "metadata": {
        "id": "0ACQVA6qwFDH"
      },
      "source": [
        "### Vytvoříme model"
      ]
    },
    {
      "cell_type": "code",
      "metadata": {
        "id": "6MLIvqAfwFDK"
      },
      "source": [
        "model = Sequential()\n",
        "\n",
        "model.add(Conv2D(32,kernel_size=3,activation='relu',input_shape=(28,28,1)))\n",
        "model.add(BatchNormalization())\n",
        "model.add(Conv2D(32,kernel_size=3,activation='relu'))\n",
        "model.add(BatchNormalization())\n",
        "model.add(Conv2D(32,kernel_size=5,strides=2,padding='same',activation='relu'))\n",
        "model.add(BatchNormalization())\n",
        "model.add(Dropout(0.4))\n",
        "\n",
        "model.add(Conv2D(64,kernel_size=3,activation='relu'))\n",
        "model.add(BatchNormalization())\n",
        "model.add(Conv2D(64,kernel_size=3,activation='relu'))\n",
        "model.add(BatchNormalization())\n",
        "model.add(Conv2D(64,kernel_size=5,strides=2,padding='same',activation='relu'))\n",
        "model.add(BatchNormalization())\n",
        "model.add(Dropout(0.4))\n",
        "\n",
        "model.add(Flatten())\n",
        "model.add(Dense(128, activation='relu'))\n",
        "model.add(BatchNormalization())\n",
        "model.add(Dropout(0.4))\n",
        "model.add(Dense(10, activation='softmax'))\n",
        "\n",
        "model.compile(optimizer=\"adam\", loss=\"sparse_categorical_crossentropy\", metrics=[\"accuracy\"])"
      ],
      "execution_count": 6,
      "outputs": []
    },
    {
      "cell_type": "code",
      "metadata": {
        "id": "SGoZgcD6wFDN"
      },
      "source": [
        "datagen = ImageDataGenerator(\n",
        "        rotation_range=10,  \n",
        "        zoom_range = 0.2,  \n",
        "        width_shift_range=0.1, \n",
        "        height_shift_range=0.1 )"
      ],
      "execution_count": 7,
      "outputs": []
    },
    {
      "cell_type": "code",
      "metadata": {
        "colab": {
          "base_uri": "https://localhost:8080/"
        },
        "id": "Dj0WqIdHwFDN",
        "outputId": "d5c7711c-fb59-4298-b334-c5811f781a6b"
      },
      "source": [
        "history = model.fit(\n",
        "    datagen.flow(X_train,y_train, batch_size=64), \n",
        "    epochs = 15, \n",
        "    steps_per_epoch = X_train.shape[0]//64,\n",
        "    validation_data = (X_valid, y_valid), \n",
        "    callbacks=[keras.callbacks.EarlyStopping(patience=4, restore_best_weights=True)]\n",
        ")"
      ],
      "execution_count": 8,
      "outputs": [
        {
          "output_type": "stream",
          "name": "stdout",
          "text": [
            "Epoch 1/15\n",
            "859/859 [==============================] - 63s 37ms/step - loss: 0.4266 - accuracy: 0.8706 - val_loss: 0.0641 - val_accuracy: 0.9802\n",
            "Epoch 2/15\n",
            "859/859 [==============================] - 32s 38ms/step - loss: 0.1321 - accuracy: 0.9605 - val_loss: 0.0582 - val_accuracy: 0.9832\n",
            "Epoch 3/15\n",
            "859/859 [==============================] - 32s 37ms/step - loss: 0.1017 - accuracy: 0.9694 - val_loss: 0.0300 - val_accuracy: 0.9902\n",
            "Epoch 4/15\n",
            "859/859 [==============================] - 32s 37ms/step - loss: 0.0841 - accuracy: 0.9752 - val_loss: 0.0291 - val_accuracy: 0.9922\n",
            "Epoch 5/15\n",
            "859/859 [==============================] - 32s 37ms/step - loss: 0.0769 - accuracy: 0.9770 - val_loss: 0.0236 - val_accuracy: 0.9910\n",
            "Epoch 6/15\n",
            "859/859 [==============================] - 32s 38ms/step - loss: 0.0679 - accuracy: 0.9801 - val_loss: 0.0208 - val_accuracy: 0.9932\n",
            "Epoch 7/15\n",
            "859/859 [==============================] - 32s 37ms/step - loss: 0.0620 - accuracy: 0.9817 - val_loss: 0.0238 - val_accuracy: 0.9924\n",
            "Epoch 8/15\n",
            "859/859 [==============================] - 32s 37ms/step - loss: 0.0560 - accuracy: 0.9830 - val_loss: 0.0266 - val_accuracy: 0.9930\n",
            "Epoch 9/15\n",
            "859/859 [==============================] - 32s 37ms/step - loss: 0.0534 - accuracy: 0.9841 - val_loss: 0.0201 - val_accuracy: 0.9944\n",
            "Epoch 10/15\n",
            "859/859 [==============================] - 32s 37ms/step - loss: 0.0512 - accuracy: 0.9842 - val_loss: 0.0202 - val_accuracy: 0.9944\n",
            "Epoch 11/15\n",
            "859/859 [==============================] - 32s 37ms/step - loss: 0.0504 - accuracy: 0.9852 - val_loss: 0.0176 - val_accuracy: 0.9950\n",
            "Epoch 12/15\n",
            "859/859 [==============================] - 32s 37ms/step - loss: 0.0470 - accuracy: 0.9856 - val_loss: 0.0161 - val_accuracy: 0.9970\n",
            "Epoch 13/15\n",
            "859/859 [==============================] - 32s 37ms/step - loss: 0.0412 - accuracy: 0.9877 - val_loss: 0.0127 - val_accuracy: 0.9960\n",
            "Epoch 14/15\n",
            "859/859 [==============================] - 32s 37ms/step - loss: 0.0449 - accuracy: 0.9869 - val_loss: 0.0136 - val_accuracy: 0.9972\n",
            "Epoch 15/15\n",
            "859/859 [==============================] - 32s 38ms/step - loss: 0.0412 - accuracy: 0.9883 - val_loss: 0.0124 - val_accuracy: 0.9962\n"
          ]
        }
      ]
    },
    {
      "cell_type": "code",
      "metadata": {
        "colab": {
          "base_uri": "https://localhost:8080/",
          "height": 282
        },
        "id": "Kf1q7XcnwFDO",
        "outputId": "92c97a9f-c8c9-4e72-bdf9-832cb1fb0f9b"
      },
      "source": [
        "import pandas as pd\n",
        "pd.DataFrame(history.history)[['loss', 'val_loss']].plot()"
      ],
      "execution_count": 9,
      "outputs": [
        {
          "output_type": "execute_result",
          "data": {
            "text/plain": [
              "<matplotlib.axes._subplots.AxesSubplot at 0x7fa14a1b2310>"
            ]
          },
          "metadata": {},
          "execution_count": 9
        },
        {
          "output_type": "display_data",
          "data": {
            "image/png": "[encoded data removed]",
            "text/plain": [
              "<Figure size 432x288 with 1 Axes>"
            ]
          },
          "metadata": {
            "needs_background": "light"
          }
        }
      ]
    },
    {
      "cell_type": "code",
      "metadata": {
        "colab": {
          "base_uri": "https://localhost:8080/",
          "height": 282
        },
        "id": "JuARPfDgwFDP",
        "outputId": "78bc7b90-cdd9-4dde-d20f-1a418704cf54"
      },
      "source": [
        "pd.DataFrame(history.history)[['accuracy', 'val_accuracy']].plot()"
      ],
      "execution_count": 10,
      "outputs": [
        {
          "output_type": "execute_result",
          "data": {
            "text/plain": [
              "<matplotlib.axes._subplots.AxesSubplot at 0x7fa14a1012d0>"
            ]
          },
          "metadata": {},
          "execution_count": 10
        },
        {
          "output_type": "display_data",
          "data": {
            "image/png": "[encoded data removed]",
            "text/plain": [
              "<Figure size 432x288 with 1 Axes>"
            ]
          },
          "metadata": {
            "needs_background": "light"
          }
        }
      ]
    },
    {
      "cell_type": "markdown",
      "metadata": {
        "id": "ViLJ2N2BwFDP"
      },
      "source": [
        "### Vyzkoušíme na testovacích datech"
      ]
    },
    {
      "cell_type": "code",
      "metadata": {
        "colab": {
          "base_uri": "https://localhost:8080/"
        },
        "id": "_1H-YxUcwFDQ",
        "outputId": "5557f28c-26fb-48cf-9c88-a974be27c5c8"
      },
      "source": [
        "model.evaluate(X_test, y_test)"
      ],
      "execution_count": 11,
      "outputs": [
        {
          "output_type": "stream",
          "name": "stdout",
          "text": [
            "313/313 [==============================] - 2s 7ms/step - loss: 0.0144 - accuracy: 0.9956\n"
          ]
        },
        {
          "output_type": "execute_result",
          "data": {
            "text/plain": [
              "[0.014439239166676998, 0.9955999851226807]"
            ]
          },
          "metadata": {},
          "execution_count": 11
        }
      ]
    },
    {
      "cell_type": "code",
      "metadata": {
        "id": "tI38zFTAwFDQ"
      },
      "source": [
        ""
      ],
      "execution_count": null,
      "outputs": []
    }
  ]
}