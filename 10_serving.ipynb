{
 "cells": [
  {
   "cell_type": "markdown",
   "metadata": {},
   "source": [
    "Running this notebook requires `docker` and `git` installed\n",
    "\n",
    "Following [this tutorial](https://www.tensorflow.org/tfx/serving/docker)."
   ]
  },
  {
   "cell_type": "markdown",
   "metadata": {},
   "source": [
    "Run following commands in *bash*\n",
    "\n",
    "```bash\n",
    "# Download the TensorFlow Serving Docker image and repo\n",
    "docker pull tensorflow/serving\n",
    "\n",
    "git clone https://github.com/tensorflow/serving\n",
    "\n",
    "# Location of demo models\n",
    "TESTDATA=\"$(pwd)/serving/tensorflow_serving/servables/tensorflow/testdata\"\n",
    "\n",
    "# Start TensorFlow Serving container and open the REST API port\n",
    "docker run -t --rm -p 8501:8501 \\\n",
    "    -v \"$TESTDATA/saved_model_half_plus_two_cpu:/models/half_plus_two\" \\\n",
    "    -e MODEL_NAME=half_plus_two \\\n",
    "    tensorflow/serving &\n",
    "\n",
    "# Query the model using the predict API\n",
    "curl -d '{\"instances\": [1.0, 2.0, 5.0]}' \\\n",
    "    -X POST http://localhost:8501/v1/models/half_plus_two:predict\n",
    "\n",
    "# Returns => { \"predictions\": [2.5, 3.0, 4.5] } \n",
    "```"
   ]
  },
  {
   "cell_type": "markdown",
   "metadata": {},
   "source": [
    "# Testing"
   ]
  },
  {
   "cell_type": "markdown",
   "metadata": {},
   "source": [
    "![The San Juan Mountains are beautiful!](10_serving.png \"San Juan Mountains\")\n"
   ]
  },
  {
   "cell_type": "code",
   "execution_count": 13,
   "metadata": {},
   "outputs": [
    {
     "name": "stdout",
     "output_type": "stream",
     "text": [
      "[2.5, 3.0, 7.0]\n"
     ]
    }
   ],
   "source": [
    "import requests\n",
    "\n",
    "url = 'http://localhost:8501/v1/models/half_plus_two:predict'\n",
    "data = {\"instances\": [1.0, 2.0, 10.0]}\n",
    "\n",
    "x = requests.post(url, data = json.dumps(data))\n",
    "\n",
    "print(json.loads(x.text)['predictions'])"
   ]
  }
 ],
 "metadata": {
  "interpreter": {
   "hash": "640009e82ad6d4e631cbdf10bf0c7af17dadd7f435ecc934f544f2dace7fbcc0"
  },
  "kernelspec": {
   "display_name": "Python 3.9.5 64-bit",
   "language": "python",
   "name": "python3"
  },
  "language_info": {
   "codemirror_mode": {
    "name": "ipython",
    "version": 3
   },
   "file_extension": ".py",
   "mimetype": "text/x-python",
   "name": "python",
   "nbconvert_exporter": "python",
   "pygments_lexer": "ipython3",
   "version": "3.9.5"
  },
  "orig_nbformat": 4
 },
 "nbformat": 4,
 "nbformat_minor": 2
}
