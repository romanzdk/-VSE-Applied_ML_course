{
  "nbformat": 4,
  "nbformat_minor": 0,
  "metadata": {
    "kernelspec": {
      "display_name": "Python 3",
      "language": "python",
      "name": "python3"
    },
    "language_info": {
      "codemirror_mode": {
        "name": "ipython",
        "version": 3
      },
      "file_extension": ".py",
      "mimetype": "text/x-python",
      "name": "python",
      "nbconvert_exporter": "python",
      "pygments_lexer": "ipython3",
      "version": "3.9.5"
    },
    "colab": {
      "name": "11_shakespeare_my.ipynb",
      "provenance": []
    },
    "accelerator": "GPU"
  },
  "cells": [
    {
      "cell_type": "code",
      "metadata": {
        "id": "Sgo_nIA5k5BR"
      },
      "source": [
        "import tensorflow as tf\n",
        "from tensorflow import keras\n",
        "import numpy as np\n",
        "import os"
      ],
      "execution_count": 1,
      "outputs": []
    },
    {
      "cell_type": "code",
      "metadata": {
        "id": "QSyKLa6Sk5BS"
      },
      "source": [
        "filepath = '/content/valka_s_mloky.txt'\n",
        "with open(filepath) as f:\n",
        "    capek_text = f.read()"
      ],
      "execution_count": 22,
      "outputs": []
    },
    {
      "cell_type": "code",
      "metadata": {
        "scrolled": true,
        "colab": {
          "base_uri": "https://localhost:8080/"
        },
        "id": "SvJ6CIf3k5BT",
        "outputId": "3bdb84fb-98af-4d15-a84a-a40beaf786c2"
      },
      "source": [
        "print(capek_text[:200])"
      ],
      "execution_count": 23,
      "outputs": [
        {
          "output_type": "stream",
          "name": "stdout",
          "text": [
            "Karel Čapek\n",
            "VÁLKA S MLOKY\n",
            "\n",
            "\n",
            "Znění tohoto textu vychází z díla Válka s mloky tak, jak bylo vydáno v Československém spisovateli v roce 1981 (ČAPEK, Karel. Válka s mloky.  20. vyd. Praha : Československ\n"
          ]
        }
      ]
    },
    {
      "cell_type": "markdown",
      "metadata": {
        "id": "rfZ54oQ3k5BT"
      },
      "source": [
        "**Převod na tokeny**"
      ]
    },
    {
      "cell_type": "code",
      "metadata": {
        "colab": {
          "base_uri": "https://localhost:8080/",
          "height": 35
        },
        "id": "eD3J5Hwgk5BU",
        "outputId": "3b23d083-4b23-4c29-fa3b-f03d7a9eebe4"
      },
      "source": [
        "\"\".join(sorted(set(capek_text.lower())))"
      ],
      "execution_count": 24,
      "outputs": [
        {
          "output_type": "execute_result",
          "data": {
            "application/vnd.google.colaboratory.intrinsic+json": {
              "type": "string"
            },
            "text/plain": [
              "'\\t\\n !%&()*,-./0123456789:;?[]abcdefghijklmnopqrstuvwxyz°áâçéíîóôöúüýčďęěňŕřšťůűž–‘’“”…'"
            ]
          },
          "metadata": {},
          "execution_count": 24
        }
      ]
    },
    {
      "cell_type": "code",
      "metadata": {
        "id": "FBr8ZOCyk5BV"
      },
      "source": [
        "tokenizer = keras.preprocessing.text.Tokenizer(char_level=True)\n",
        "tokenizer.fit_on_texts(capek_text)"
      ],
      "execution_count": 25,
      "outputs": []
    },
    {
      "cell_type": "code",
      "metadata": {
        "id": "rsMFV7dQk5BV"
      },
      "source": [
        "max_id = len(tokenizer.word_index) # pocet ruznych znaku\n",
        "dataset_size = tokenizer.document_count # celkovy pocet znaku"
      ],
      "execution_count": 26,
      "outputs": []
    },
    {
      "cell_type": "code",
      "metadata": {
        "colab": {
          "base_uri": "https://localhost:8080/"
        },
        "id": "S50ZtLqxk5BV",
        "outputId": "0f8a0963-8cf5-4e7d-e7e1-0f6912209445"
      },
      "source": [
        "max_id"
      ],
      "execution_count": 27,
      "outputs": [
        {
          "output_type": "execute_result",
          "data": {
            "text/plain": [
              "85"
            ]
          },
          "metadata": {},
          "execution_count": 27
        }
      ]
    },
    {
      "cell_type": "markdown",
      "metadata": {
        "id": "Fw0nQU6_k5BW"
      },
      "source": [
        "**Převod celého korpusu na tokeny**"
      ]
    },
    {
      "cell_type": "code",
      "metadata": {
        "id": "-oCWa_-mk5BW"
      },
      "source": [
        "[encoded] = np.array(tokenizer.texts_to_sequences([capek_text])) - 1\n",
        "train_size = dataset_size * 90 // 100 # pro trenovani pouzijeme 90 % datasetu\n",
        "dataset = tf.data.Dataset.from_tensor_slices(encoded[:train_size]) # sekvence znak po znaku"
      ],
      "execution_count": 28,
      "outputs": []
    },
    {
      "cell_type": "code",
      "metadata": {
        "scrolled": true,
        "colab": {
          "base_uri": "https://localhost:8080/"
        },
        "id": "qDc_JUlLk5BW",
        "outputId": "362d49d5-09a9-4e8b-b400-a0d2e27d01ae"
      },
      "source": [
        "encoded.shape"
      ],
      "execution_count": 29,
      "outputs": [
        {
          "output_type": "execute_result",
          "data": {
            "text/plain": [
              "(410451,)"
            ]
          },
          "metadata": {},
          "execution_count": 29
        }
      ]
    },
    {
      "cell_type": "markdown",
      "metadata": {
        "id": "AihVfm2ak5BX"
      },
      "source": [
        "**Příprava datasetu pomocí knihovny tf.data**"
      ]
    },
    {
      "cell_type": "markdown",
      "metadata": {
        "id": "UQlPePLOk5BX"
      },
      "source": [
        "window() nám převede dlouhou sekvenci (1M znaků) na okna o délce X (zde 100) znaků. shift=1 zajistí, že první instance jsou znaky 0-100, druhá instance 1-101 atd."
      ]
    },
    {
      "cell_type": "code",
      "metadata": {
        "id": "DL3QO5sok5BY"
      },
      "source": [
        "n_steps = 100\n",
        "window_length = n_steps + 1 # target = input posunutý o 1 znak dopředu\n",
        "dataset = dataset.repeat().window(window_length, shift=1, drop_remainder=True)"
      ],
      "execution_count": 30,
      "outputs": []
    },
    {
      "cell_type": "markdown",
      "metadata": {
        "id": "iUtDfJJfk5BY"
      },
      "source": [
        "window() nám dataset převede na dataset datasetů, což nemůžeme použít pro trénování. proto to splácneme zpátky na dataset sekvencí"
      ]
    },
    {
      "cell_type": "code",
      "metadata": {
        "id": "b0PdlqnFk5BY"
      },
      "source": [
        "dataset = dataset.flat_map(lambda window: window.batch(window_length))"
      ],
      "execution_count": 31,
      "outputs": []
    },
    {
      "cell_type": "markdown",
      "metadata": {
        "id": "h1B9LRzQk5BY"
      },
      "source": [
        "GD funguje nejlépe, když jsou trénovací instance náhodně distribuované, proto dataset zamícháme a připravíme do dávek. Zároveň sekvenci o 101 znacích převedeme na prvních 100 znaků trénovacích a posledních 100 znaků jako target "
      ]
    },
    {
      "cell_type": "code",
      "metadata": {
        "id": "NIc3Mi4Vk5BY"
      },
      "source": [
        "batch_size = 32\n",
        "dataset = dataset.shuffle(10000).batch(batch_size)\n",
        "dataset = dataset.map(lambda windows: (windows[:, :-1], windows[:, 1:]))"
      ],
      "execution_count": 32,
      "outputs": []
    },
    {
      "cell_type": "markdown",
      "metadata": {
        "id": "sPp-CyhSk5BZ"
      },
      "source": [
        "Protože různých znaků je málo, vystačíme si s one-hot encoding namísto word embeddings. Targety můžeme nechat jako celočíselné indexy. "
      ]
    },
    {
      "cell_type": "code",
      "metadata": {
        "id": "w47uLN9uk5BZ"
      },
      "source": [
        "dataset = dataset.map(\n",
        "    lambda X_batch, y_batch: (tf.one_hot(X_batch, depth=max_id), y_batch))"
      ],
      "execution_count": 33,
      "outputs": []
    },
    {
      "cell_type": "markdown",
      "metadata": {
        "id": "lxdN0VECk5BZ"
      },
      "source": [
        "Prefetching předchystává dávky dat, aby byly nachystané už ve chvíli, kdy si je model vyžádá a nečekalo se na ně"
      ]
    },
    {
      "cell_type": "code",
      "metadata": {
        "id": "7dwzYTbPk5BZ"
      },
      "source": [
        "dataset = dataset.prefetch(1)"
      ],
      "execution_count": 34,
      "outputs": []
    },
    {
      "cell_type": "markdown",
      "metadata": {
        "id": "jqUs3go-k5Ba"
      },
      "source": [
        "**Zkontrolujeme výstup datasetu**"
      ]
    },
    {
      "cell_type": "code",
      "metadata": {
        "scrolled": true,
        "colab": {
          "base_uri": "https://localhost:8080/"
        },
        "id": "zKIjOMPIk5Ba",
        "outputId": "79a9a2d8-3fb6-4d96-dea2-f31717e42a94"
      },
      "source": [
        "for X_batch, y_batch in dataset.take(1):\n",
        "    print(X_batch.shape, y_batch.shape)"
      ],
      "execution_count": 35,
      "outputs": [
        {
          "output_type": "stream",
          "name": "stdout",
          "text": [
            "(32, 100, 85) (32, 100)\n"
          ]
        }
      ]
    },
    {
      "cell_type": "code",
      "metadata": {
        "colab": {
          "base_uri": "https://localhost:8080/"
        },
        "id": "RlOYWQxgk5Ba",
        "outputId": "cbbac0bc-8631-4163-c370-02a84527dee1"
      },
      "source": [
        "X_batch[0]"
      ],
      "execution_count": 36,
      "outputs": [
        {
          "output_type": "execute_result",
          "data": {
            "text/plain": [
              "<tf.Tensor: shape=(100, 85), dtype=float32, numpy=\n",
              "array([[0., 0., 0., ..., 0., 0., 0.],\n",
              "       [0., 0., 0., ..., 0., 0., 0.],\n",
              "       [0., 0., 0., ..., 0., 0., 0.],\n",
              "       ...,\n",
              "       [1., 0., 0., ..., 0., 0., 0.],\n",
              "       [0., 1., 0., ..., 0., 0., 0.],\n",
              "       [0., 0., 0., ..., 0., 0., 0.]], dtype=float32)>"
            ]
          },
          "metadata": {},
          "execution_count": 36
        }
      ]
    },
    {
      "cell_type": "code",
      "metadata": {
        "colab": {
          "base_uri": "https://localhost:8080/"
        },
        "id": "MfTXowE5k5Ba",
        "outputId": "7893361a-a92a-4e31-8bdd-871ead791c70"
      },
      "source": [
        "y_batch[0]"
      ],
      "execution_count": 37,
      "outputs": [
        {
          "output_type": "execute_result",
          "data": {
            "text/plain": [
              "<tf.Tensor: shape=(100,), dtype=int64, numpy=\n",
              "array([ 8,  6,  0, 13,  3, 10,  2,  4, 19, 26,  0, 36, 20,  3, 12,  1,  0,\n",
              "       30,  2, 13,  5, 22,  0, 14,  3,  4,  2, 26,  0, 20, 21,  0, 18,  1,\n",
              "        0, 20,  2, 11,  4,  1, 15,  0,  9,  8, 11, 24,  6, 55,  0,  5,  1,\n",
              "        5,  8, 28,  0, 20,  2,  4,  1, 10,  0, 20,  2, 18,  1,  0, 18,  6,\n",
              "        3,  9, 15, 26,  0,  9, 13,  3, 16,  2,  6,  0, 20,  7,  2, 10,  0,\n",
              "        7,  2,  0, 14,  1,  0, 30,  6, 15,  4, 15,  0,  1, 11,  0])>"
            ]
          },
          "metadata": {},
          "execution_count": 37
        }
      ]
    },
    {
      "cell_type": "markdown",
      "metadata": {
        "id": "xWKPP0Kyk5Ba"
      },
      "source": [
        "**Připravíme a natrénujeme model**"
      ]
    },
    {
      "cell_type": "markdown",
      "metadata": {
        "id": "sjF44Gnnk5Bb"
      },
      "source": [
        "Pokud nám má Dense vrstva vracet sekvenci, tak ji obalíme do TimeDistributed vrstvy, která se o to postará."
      ]
    },
    {
      "cell_type": "code",
      "metadata": {
        "id": "j-M-CEqck5Bb"
      },
      "source": [
        "model = keras.models.Sequential([\n",
        "    keras.layers.GRU(128, return_sequences=True, input_shape=[None, max_id],\n",
        "                     dropout=0.2),\n",
        "    keras.layers.TimeDistributed(keras.layers.Dense(max_id,\n",
        "                                                    activation=\"softmax\"))\n",
        "])\n",
        "model.compile(loss=\"sparse_categorical_crossentropy\", optimizer=\"adam\")"
      ],
      "execution_count": 38,
      "outputs": []
    },
    {
      "cell_type": "code",
      "metadata": {
        "colab": {
          "base_uri": "https://localhost:8080/"
        },
        "id": "rlRYYqHLk5Bb",
        "outputId": "74077c97-e63e-4a9b-ac1f-c4ae31cc1f66"
      },
      "source": [
        "model.summary()"
      ],
      "execution_count": 39,
      "outputs": [
        {
          "output_type": "stream",
          "name": "stdout",
          "text": [
            "Model: \"sequential\"\n",
            "_________________________________________________________________\n",
            " Layer (type)                Output Shape              Param #   \n",
            "=================================================================\n",
            " gru (GRU)                   (None, None, 128)         82560     \n",
            "                                                                 \n",
            " time_distributed (TimeDistr  (None, None, 85)         10965     \n",
            " ibuted)                                                         \n",
            "                                                                 \n",
            "=================================================================\n",
            "Total params: 93,525\n",
            "Trainable params: 93,525\n",
            "Non-trainable params: 0\n",
            "_________________________________________________________________\n"
          ]
        }
      ]
    },
    {
      "cell_type": "code",
      "metadata": {
        "colab": {
          "base_uri": "https://localhost:8080/"
        },
        "id": "IU4djHNQk5Bb",
        "outputId": "b4b71e33-9fcc-43f0-b88b-3181865aeaa0"
      },
      "source": [
        "history = model.fit(dataset, steps_per_epoch=train_size // batch_size,\n",
        "                    epochs=5)"
      ],
      "execution_count": 40,
      "outputs": [
        {
          "output_type": "stream",
          "name": "stdout",
          "text": [
            "Epoch 1/5\n",
            "11543/11543 [==============================] - 331s 28ms/step - loss: 2.1240\n",
            "Epoch 2/5\n",
            "11543/11543 [==============================] - 323s 28ms/step - loss: 1.9413\n",
            "Epoch 3/5\n",
            "11543/11543 [==============================] - 326s 28ms/step - loss: 1.8960\n",
            "Epoch 4/5\n",
            "11543/11543 [==============================] - 326s 28ms/step - loss: 1.8730\n",
            "Epoch 5/5\n",
            "11543/11543 [==============================] - 326s 28ms/step - loss: 1.8577\n"
          ]
        }
      ]
    },
    {
      "cell_type": "code",
      "metadata": {
        "id": "Ch26hm00k5Bc"
      },
      "source": [
        "model.save('11_capek.keras')"
      ],
      "execution_count": 41,
      "outputs": []
    },
    {
      "cell_type": "code",
      "metadata": {
        "id": "UUoGzVYVk5Bc"
      },
      "source": [
        "model = keras.models.load_model('11_capek.keras')"
      ],
      "execution_count": 42,
      "outputs": []
    },
    {
      "cell_type": "markdown",
      "metadata": {
        "id": "0GcNvQ_Dk5Bc"
      },
      "source": [
        "**Generování znaků a sekvencí z natrénovaného modelu**"
      ]
    },
    {
      "cell_type": "markdown",
      "metadata": {
        "id": "xM_WYSL3k5Bc"
      },
      "source": [
        "Protože jsme si upravovali ID tokenů, musíme si na to nachystat preprocessing i pro predikce"
      ]
    },
    {
      "cell_type": "code",
      "metadata": {
        "id": "L0X94Dx6k5Bc"
      },
      "source": [
        "def preprocess(texts):\n",
        "    X = np.array(tokenizer.texts_to_sequences(texts)) - 1\n",
        "    return tf.one_hot(X, max_id)"
      ],
      "execution_count": 43,
      "outputs": []
    },
    {
      "cell_type": "markdown",
      "metadata": {
        "id": "tgY-68Q0k5Bc"
      },
      "source": [
        "Protože jsme model učili predikovat sekvenci, vrátí nám metoda predict zase sekvenci. Znak, který by měl následovat po vstupních datech, je posledním znakem. "
      ]
    },
    {
      "cell_type": "code",
      "metadata": {
        "scrolled": true,
        "colab": {
          "base_uri": "https://localhost:8080/"
        },
        "id": "hW6FJ8Hjk5Bd",
        "outputId": "c9aa9bb8-ba5a-43d0-b8ce-17d78417c4c8"
      },
      "source": [
        "X_new = preprocess([\"Jak se má\"])\n",
        "X_new"
      ],
      "execution_count": 44,
      "outputs": [
        {
          "output_type": "execute_result",
          "data": {
            "text/plain": [
              "<tf.Tensor: shape=(1, 9, 85), dtype=float32, numpy=\n",
              "array([[[0., 0., 0., 0., 0., 0., 0., 0., 0., 0., 0., 0., 0., 0., 0., 0.,\n",
              "         0., 0., 0., 0., 1., 0., 0., 0., 0., 0., 0., 0., 0., 0., 0., 0.,\n",
              "         0., 0., 0., 0., 0., 0., 0., 0., 0., 0., 0., 0., 0., 0., 0., 0.,\n",
              "         0., 0., 0., 0., 0., 0., 0., 0., 0., 0., 0., 0., 0., 0., 0., 0.,\n",
              "         0., 0., 0., 0., 0., 0., 0., 0., 0., 0., 0., 0., 0., 0., 0., 0.,\n",
              "         0., 0., 0., 0., 0.],\n",
              "        [0., 0., 0., 1., 0., 0., 0., 0., 0., 0., 0., 0., 0., 0., 0., 0.,\n",
              "         0., 0., 0., 0., 0., 0., 0., 0., 0., 0., 0., 0., 0., 0., 0., 0.,\n",
              "         0., 0., 0., 0., 0., 0., 0., 0., 0., 0., 0., 0., 0., 0., 0., 0.,\n",
              "         0., 0., 0., 0., 0., 0., 0., 0., 0., 0., 0., 0., 0., 0., 0., 0.,\n",
              "         0., 0., 0., 0., 0., 0., 0., 0., 0., 0., 0., 0., 0., 0., 0., 0.,\n",
              "         0., 0., 0., 0., 0.],\n",
              "        [0., 0., 0., 0., 0., 0., 0., 0., 0., 0., 0., 0., 1., 0., 0., 0.,\n",
              "         0., 0., 0., 0., 0., 0., 0., 0., 0., 0., 0., 0., 0., 0., 0., 0.,\n",
              "         0., 0., 0., 0., 0., 0., 0., 0., 0., 0., 0., 0., 0., 0., 0., 0.,\n",
              "         0., 0., 0., 0., 0., 0., 0., 0., 0., 0., 0., 0., 0., 0., 0., 0.,\n",
              "         0., 0., 0., 0., 0., 0., 0., 0., 0., 0., 0., 0., 0., 0., 0., 0.,\n",
              "         0., 0., 0., 0., 0.],\n",
              "        [1., 0., 0., 0., 0., 0., 0., 0., 0., 0., 0., 0., 0., 0., 0., 0.,\n",
              "         0., 0., 0., 0., 0., 0., 0., 0., 0., 0., 0., 0., 0., 0., 0., 0.,\n",
              "         0., 0., 0., 0., 0., 0., 0., 0., 0., 0., 0., 0., 0., 0., 0., 0.,\n",
              "         0., 0., 0., 0., 0., 0., 0., 0., 0., 0., 0., 0., 0., 0., 0., 0.,\n",
              "         0., 0., 0., 0., 0., 0., 0., 0., 0., 0., 0., 0., 0., 0., 0., 0.,\n",
              "         0., 0., 0., 0., 0.],\n",
              "        [0., 0., 0., 0., 0., 0., 0., 1., 0., 0., 0., 0., 0., 0., 0., 0.,\n",
              "         0., 0., 0., 0., 0., 0., 0., 0., 0., 0., 0., 0., 0., 0., 0., 0.,\n",
              "         0., 0., 0., 0., 0., 0., 0., 0., 0., 0., 0., 0., 0., 0., 0., 0.,\n",
              "         0., 0., 0., 0., 0., 0., 0., 0., 0., 0., 0., 0., 0., 0., 0., 0.,\n",
              "         0., 0., 0., 0., 0., 0., 0., 0., 0., 0., 0., 0., 0., 0., 0., 0.,\n",
              "         0., 0., 0., 0., 0.],\n",
              "        [0., 0., 1., 0., 0., 0., 0., 0., 0., 0., 0., 0., 0., 0., 0., 0.,\n",
              "         0., 0., 0., 0., 0., 0., 0., 0., 0., 0., 0., 0., 0., 0., 0., 0.,\n",
              "         0., 0., 0., 0., 0., 0., 0., 0., 0., 0., 0., 0., 0., 0., 0., 0.,\n",
              "         0., 0., 0., 0., 0., 0., 0., 0., 0., 0., 0., 0., 0., 0., 0., 0.,\n",
              "         0., 0., 0., 0., 0., 0., 0., 0., 0., 0., 0., 0., 0., 0., 0., 0.,\n",
              "         0., 0., 0., 0., 0.],\n",
              "        [1., 0., 0., 0., 0., 0., 0., 0., 0., 0., 0., 0., 0., 0., 0., 0.,\n",
              "         0., 0., 0., 0., 0., 0., 0., 0., 0., 0., 0., 0., 0., 0., 0., 0.,\n",
              "         0., 0., 0., 0., 0., 0., 0., 0., 0., 0., 0., 0., 0., 0., 0., 0.,\n",
              "         0., 0., 0., 0., 0., 0., 0., 0., 0., 0., 0., 0., 0., 0., 0., 0.,\n",
              "         0., 0., 0., 0., 0., 0., 0., 0., 0., 0., 0., 0., 0., 0., 0., 0.,\n",
              "         0., 0., 0., 0., 0.],\n",
              "        [0., 0., 0., 0., 0., 0., 0., 0., 0., 0., 1., 0., 0., 0., 0., 0.,\n",
              "         0., 0., 0., 0., 0., 0., 0., 0., 0., 0., 0., 0., 0., 0., 0., 0.,\n",
              "         0., 0., 0., 0., 0., 0., 0., 0., 0., 0., 0., 0., 0., 0., 0., 0.,\n",
              "         0., 0., 0., 0., 0., 0., 0., 0., 0., 0., 0., 0., 0., 0., 0., 0.,\n",
              "         0., 0., 0., 0., 0., 0., 0., 0., 0., 0., 0., 0., 0., 0., 0., 0.,\n",
              "         0., 0., 0., 0., 0.],\n",
              "        [0., 0., 0., 0., 0., 0., 0., 0., 0., 0., 0., 0., 0., 0., 0., 0.,\n",
              "         0., 0., 0., 0., 0., 1., 0., 0., 0., 0., 0., 0., 0., 0., 0., 0.,\n",
              "         0., 0., 0., 0., 0., 0., 0., 0., 0., 0., 0., 0., 0., 0., 0., 0.,\n",
              "         0., 0., 0., 0., 0., 0., 0., 0., 0., 0., 0., 0., 0., 0., 0., 0.,\n",
              "         0., 0., 0., 0., 0., 0., 0., 0., 0., 0., 0., 0., 0., 0., 0., 0.,\n",
              "         0., 0., 0., 0., 0.]]], dtype=float32)>"
            ]
          },
          "metadata": {},
          "execution_count": 44
        }
      ]
    },
    {
      "cell_type": "code",
      "metadata": {
        "colab": {
          "base_uri": "https://localhost:8080/"
        },
        "id": "3rFB2L_7k5Bd",
        "outputId": "6025eb03-cd97-43d4-819f-dc1a7f3de293"
      },
      "source": [
        "y_pred = np.argmax(model.predict(X_new), axis=-1)\n",
        "y_pred"
      ],
      "execution_count": 45,
      "outputs": [
        {
          "output_type": "execute_result",
          "data": {
            "text/plain": [
              "array([[ 2, 12,  1, 23,  2,  0, 14,  1, 10]])"
            ]
          },
          "metadata": {},
          "execution_count": 45
        }
      ]
    },
    {
      "cell_type": "code",
      "metadata": {
        "colab": {
          "base_uri": "https://localhost:8080/",
          "height": 35
        },
        "id": "btj9-FTbk5Bd",
        "outputId": "e9a05160-fbab-4f96-e8d4-9fb327025180"
      },
      "source": [
        "tokenizer.sequences_to_texts(y_pred + 1)[0][-1] # ID zase o 1 zvedneme "
      ],
      "execution_count": 46,
      "outputs": [
        {
          "output_type": "execute_result",
          "data": {
            "application/vnd.google.colaboratory.intrinsic+json": {
              "type": "string"
            },
            "text/plain": [
              "'m'"
            ]
          },
          "metadata": {},
          "execution_count": 46
        }
      ]
    },
    {
      "cell_type": "code",
      "metadata": {
        "colab": {
          "base_uri": "https://localhost:8080/",
          "height": 35
        },
        "id": "teE73o8Ik5Bd",
        "outputId": "56f8d6e1-93ba-468c-bb8b-263aa7bbe95f"
      },
      "source": [
        "tokenizer.sequences_to_texts(y_pred + 1)[0]"
      ],
      "execution_count": 47,
      "outputs": [
        {
          "output_type": "execute_result",
          "data": {
            "application/vnd.google.colaboratory.intrinsic+json": {
              "type": "string"
            },
            "text/plain": [
              "'e k o b e   p o m'"
            ]
          },
          "metadata": {},
          "execution_count": 47
        }
      ]
    },
    {
      "cell_type": "markdown",
      "metadata": {
        "id": "JPPtN0mbk5Bd"
      },
      "source": [
        "Pomocí temperature můžeme stanovit, jak moc náhodná má být volba dalšího znaku z možných predikovaných"
      ]
    },
    {
      "cell_type": "code",
      "metadata": {
        "id": "NXvPXMXik5Bd"
      },
      "source": [
        "def next_char(text, temperature=1):\n",
        "    X_new = preprocess([text])\n",
        "    y_proba = model.predict(X_new)[0, -1:, :]\n",
        "    rescaled_logits = tf.math.log(y_proba) / temperature\n",
        "    char_id = tf.random.categorical(rescaled_logits, num_samples=1) + 1\n",
        "    return tokenizer.sequences_to_texts(char_id.numpy())[0]"
      ],
      "execution_count": 48,
      "outputs": []
    },
    {
      "cell_type": "code",
      "metadata": {
        "colab": {
          "base_uri": "https://localhost:8080/",
          "height": 35
        },
        "id": "g5WdplOtk5Be",
        "outputId": "19d04205-ba65-4d6c-bf83-be6d9dee9672"
      },
      "source": [
        "next_char(\"Jak se má\", temperature=1)"
      ],
      "execution_count": 50,
      "outputs": [
        {
          "output_type": "execute_result",
          "data": {
            "application/vnd.google.colaboratory.intrinsic+json": {
              "type": "string"
            },
            "text/plain": [
              "'m'"
            ]
          },
          "metadata": {},
          "execution_count": 50
        }
      ]
    },
    {
      "cell_type": "code",
      "metadata": {
        "id": "H7Eo_obOk5Be"
      },
      "source": [
        "def complete_text(text, n_chars=50, temperature=1):\n",
        "    for _ in range(n_chars):\n",
        "        text += next_char(text, temperature)\n",
        "    return text"
      ],
      "execution_count": 51,
      "outputs": []
    },
    {
      "cell_type": "code",
      "metadata": {
        "colab": {
          "base_uri": "https://localhost:8080/"
        },
        "id": "7qYS7Smpk5Be",
        "outputId": "680f5cec-169a-41f6-ea92-05f003705db7"
      },
      "source": [
        "print(complete_text(\"t\", temperature=0.2))"
      ],
      "execution_count": 52,
      "outputs": [
        {
          "output_type": "stream",
          "name": "stdout",
          "text": [
            "to nebo podaří nebo čerti na mořský hlas do rozkazy\n"
          ]
        }
      ]
    },
    {
      "cell_type": "code",
      "metadata": {
        "colab": {
          "base_uri": "https://localhost:8080/"
        },
        "id": "tiX64sH0k5Be",
        "outputId": "721ad5bd-2e6a-406e-d352-46601c472e21"
      },
      "source": [
        "print(complete_text(\"t\", temperature=1))"
      ],
      "execution_count": 53,
      "outputs": [
        {
          "output_type": "stream",
          "name": "stdout",
          "text": [
            "tan,” řešťal kníhavon robu.”\n",
            "“nedává. halloc bandoe\n"
          ]
        }
      ]
    },
    {
      "cell_type": "code",
      "metadata": {
        "colab": {
          "base_uri": "https://localhost:8080/"
        },
        "id": "oot4_sY1k5Be",
        "outputId": "ddecf18a-abe4-423b-bd69-f62f82ea99af"
      },
      "source": [
        "print(complete_text(\"t\", temperature=2))"
      ],
      "execution_count": 54,
      "outputs": [
        {
          "output_type": "stream",
          "name": "stdout",
          "text": [
            "távy sou-li níbic, s?evroščla – puk pisa! vám z pít\n"
          ]
        }
      ]
    },
    {
      "cell_type": "code",
      "metadata": {
        "id": "YisMTVLdt7N_"
      },
      "source": [
        ""
      ],
      "execution_count": null,
      "outputs": []
    }
  ]
}