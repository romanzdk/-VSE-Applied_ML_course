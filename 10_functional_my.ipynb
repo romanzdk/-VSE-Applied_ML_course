{
  "nbformat": 4,
  "nbformat_minor": 0,
  "metadata": {
    "kernelspec": {
      "display_name": "Python 3",
      "language": "python",
      "name": "python3"
    },
    "language_info": {
      "codemirror_mode": {
        "name": "ipython",
        "version": 3
      },
      "file_extension": ".py",
      "mimetype": "text/x-python",
      "name": "python",
      "nbconvert_exporter": "python",
      "pygments_lexer": "ipython3",
      "version": "3.9.5"
    },
    "colab": {
      "name": "09_timeseries_my.ipynb",
      "provenance": [],
      "collapsed_sections": []
    },
    "accelerator": "GPU"
  },
  "cells": [
    {
      "cell_type": "code",
      "metadata": {
        "id": "ypZThnqslyig"
      },
      "source": [
        "import tensorflow as tf\n",
        "from tensorflow import keras\n",
        "from tensorflow.keras import layers"
      ],
      "execution_count": 1,
      "outputs": []
    },
    {
      "cell_type": "markdown",
      "metadata": {
        "id": "5nD0Jxeblyio"
      },
      "source": [
        "### Načteme data"
      ]
    },
    {
      "cell_type": "code",
      "metadata": {
        "colab": {
          "base_uri": "https://localhost:8080/",
          "height": 206
        },
        "id": "4OhQJfoUlyix",
        "outputId": "0ff551d9-6a04-4eae-fca7-5c048eb06b69"
      },
      "source": [
        "data = pd.read_csv('/content/jena_climate_2009_2016.csv')\n",
        "data.head()"
      ],
      "execution_count": 40,
      "outputs": [
        {
          "output_type": "execute_result",
          "data": {
            "text/html": [
              "<div>\n",
              "<style scoped>\n",
              "    .dataframe tbody tr th:only-of-type {\n",
              "        vertical-align: middle;\n",
              "    }\n",
              "\n",
              "    .dataframe tbody tr th {\n",
              "        vertical-align: top;\n",
              "    }\n",
              "\n",
              "    .dataframe thead th {\n",
              "        text-align: right;\n",
              "    }\n",
              "</style>\n",
              "<table border=\"1\" class=\"dataframe\">\n",
              "  <thead>\n",
              "    <tr style=\"text-align: right;\">\n",
              "      <th></th>\n",
              "      <th>Date Time</th>\n",
              "      <th>p (mbar)</th>\n",
              "      <th>T (degC)</th>\n",
              "      <th>Tpot (K)</th>\n",
              "      <th>Tdew (degC)</th>\n",
              "      <th>rh (%)</th>\n",
              "      <th>VPmax (mbar)</th>\n",
              "      <th>VPact (mbar)</th>\n",
              "      <th>VPdef (mbar)</th>\n",
              "      <th>sh (g/kg)</th>\n",
              "      <th>H2OC (mmol/mol)</th>\n",
              "      <th>rho (g/m**3)</th>\n",
              "      <th>wv (m/s)</th>\n",
              "      <th>max. wv (m/s)</th>\n",
              "      <th>wd (deg)</th>\n",
              "    </tr>\n",
              "  </thead>\n",
              "  <tbody>\n",
              "    <tr>\n",
              "      <th>0</th>\n",
              "      <td>01.01.2009 00:10:00</td>\n",
              "      <td>996.52</td>\n",
              "      <td>-8.02</td>\n",
              "      <td>265.40</td>\n",
              "      <td>-8.90</td>\n",
              "      <td>93.3</td>\n",
              "      <td>3.33</td>\n",
              "      <td>3.11</td>\n",
              "      <td>0.22</td>\n",
              "      <td>1.94</td>\n",
              "      <td>3.12</td>\n",
              "      <td>1307.75</td>\n",
              "      <td>1.03</td>\n",
              "      <td>1.75</td>\n",
              "      <td>152.3</td>\n",
              "    </tr>\n",
              "    <tr>\n",
              "      <th>1</th>\n",
              "      <td>01.01.2009 00:20:00</td>\n",
              "      <td>996.57</td>\n",
              "      <td>-8.41</td>\n",
              "      <td>265.01</td>\n",
              "      <td>-9.28</td>\n",
              "      <td>93.4</td>\n",
              "      <td>3.23</td>\n",
              "      <td>3.02</td>\n",
              "      <td>0.21</td>\n",
              "      <td>1.89</td>\n",
              "      <td>3.03</td>\n",
              "      <td>1309.80</td>\n",
              "      <td>0.72</td>\n",
              "      <td>1.50</td>\n",
              "      <td>136.1</td>\n",
              "    </tr>\n",
              "    <tr>\n",
              "      <th>2</th>\n",
              "      <td>01.01.2009 00:30:00</td>\n",
              "      <td>996.53</td>\n",
              "      <td>-8.51</td>\n",
              "      <td>264.91</td>\n",
              "      <td>-9.31</td>\n",
              "      <td>93.9</td>\n",
              "      <td>3.21</td>\n",
              "      <td>3.01</td>\n",
              "      <td>0.20</td>\n",
              "      <td>1.88</td>\n",
              "      <td>3.02</td>\n",
              "      <td>1310.24</td>\n",
              "      <td>0.19</td>\n",
              "      <td>0.63</td>\n",
              "      <td>171.6</td>\n",
              "    </tr>\n",
              "    <tr>\n",
              "      <th>3</th>\n",
              "      <td>01.01.2009 00:40:00</td>\n",
              "      <td>996.51</td>\n",
              "      <td>-8.31</td>\n",
              "      <td>265.12</td>\n",
              "      <td>-9.07</td>\n",
              "      <td>94.2</td>\n",
              "      <td>3.26</td>\n",
              "      <td>3.07</td>\n",
              "      <td>0.19</td>\n",
              "      <td>1.92</td>\n",
              "      <td>3.08</td>\n",
              "      <td>1309.19</td>\n",
              "      <td>0.34</td>\n",
              "      <td>0.50</td>\n",
              "      <td>198.0</td>\n",
              "    </tr>\n",
              "    <tr>\n",
              "      <th>4</th>\n",
              "      <td>01.01.2009 00:50:00</td>\n",
              "      <td>996.51</td>\n",
              "      <td>-8.27</td>\n",
              "      <td>265.15</td>\n",
              "      <td>-9.04</td>\n",
              "      <td>94.1</td>\n",
              "      <td>3.27</td>\n",
              "      <td>3.08</td>\n",
              "      <td>0.19</td>\n",
              "      <td>1.92</td>\n",
              "      <td>3.09</td>\n",
              "      <td>1309.00</td>\n",
              "      <td>0.32</td>\n",
              "      <td>0.63</td>\n",
              "      <td>214.3</td>\n",
              "    </tr>\n",
              "  </tbody>\n",
              "</table>\n",
              "</div>"
            ],
            "text/plain": [
              "             Date Time  p (mbar)  T (degC)  ...  wv (m/s)  max. wv (m/s)  wd (deg)\n",
              "0  01.01.2009 00:10:00    996.52     -8.02  ...      1.03           1.75     152.3\n",
              "1  01.01.2009 00:20:00    996.57     -8.41  ...      0.72           1.50     136.1\n",
              "2  01.01.2009 00:30:00    996.53     -8.51  ...      0.19           0.63     171.6\n",
              "3  01.01.2009 00:40:00    996.51     -8.31  ...      0.34           0.50     198.0\n",
              "4  01.01.2009 00:50:00    996.51     -8.27  ...      0.32           0.63     214.3\n",
              "\n",
              "[5 rows x 15 columns]"
            ]
          },
          "metadata": {},
          "execution_count": 40
        }
      ]
    },
    {
      "cell_type": "code",
      "metadata": {
        "id": "lYYDsunvlyi1"
      },
      "source": [
        "train_index = 200000 # 0 - 200000 trénovací\n",
        "valid_index = 300000 # 200001 - 300000 validační\n",
        "                     # zbytek testovací"
      ],
      "execution_count": 41,
      "outputs": []
    },
    {
      "cell_type": "code",
      "metadata": {
        "id": "O1s9iSG_lyi7"
      },
      "source": [
        "lookback = 1440 # 10 dní zpátky \n",
        "step = 6  # po kolika krocích vybírat časové body\n",
        "future = 6*24 # 6 x 24 = 24 hodin dopředu\n",
        "batch_size = 256 \n",
        "timesteps_in_instance = int(lookback / step)"
      ],
      "execution_count": 42,
      "outputs": []
    },
    {
      "cell_type": "code",
      "metadata": {
        "id": "dCwf5_Q9lyi8"
      },
      "source": [
        "def generator(data, lookback, future, min_index, max_index, shuffle=False, batch_size=128, step=6):\n",
        "    if max_index is None:\n",
        "        max_index = len(data) - future - 1\n",
        "    i = min_index + lookback\n",
        "    while 1:\n",
        "        if shuffle:\n",
        "            rows = np.random.randint(min_index + lookback, max_index, size=batch_size)\n",
        "        else:\n",
        "            if i + batch_size >= max_index:\n",
        "                i = min_index + lookback\n",
        "            rows = np.arange(i, min(i + batch_size, max_index))\n",
        "            i += len(rows)\n",
        "\n",
        "        samples = np.zeros((len(rows),\n",
        "                           lookback // step,\n",
        "                           data.shape[-1]))\n",
        "        targets = np.zeros((len(rows),2))\n",
        "        for j, row in enumerate(rows):\n",
        "            indices = range(rows[j] - lookback, rows[j], step)\n",
        "            samples[j] = data[indices]\n",
        "            targets[j] = data[rows[j] + future][:2]\n",
        "            \n",
        "        yield samples, targets"
      ],
      "execution_count": 43,
      "outputs": []
    },
    {
      "cell_type": "markdown",
      "metadata": {
        "id": "LlhbTuE4lyi9"
      },
      "source": [
        "### Můžeme ještě vyzkoušet pracovat s periodicitou"
      ]
    },
    {
      "cell_type": "code",
      "metadata": {
        "id": "8ZdczqOPlyjA"
      },
      "source": [
        "import time\n",
        "import datetime\n",
        "\n",
        "timestamps = pd.to_datetime(data['Date Time'], format='%d.%m.%Y %H:%M:%S').map(datetime.datetime.timestamp)"
      ],
      "execution_count": 44,
      "outputs": []
    },
    {
      "cell_type": "code",
      "metadata": {
        "id": "ts__gI4UlyjC"
      },
      "source": [
        "day = 24*60*60\n",
        "year = (364.2425)*day\n",
        "\n",
        "data['Day sin'] = np.sin(timestamps * (2 * np.pi / day))\n",
        "data['Day cos'] = np.cos(timestamps * (2 * np.pi / day))\n",
        "data['Year sin'] = np.sin(timestamps * (2 * np.pi / year))\n",
        "data['Year cos'] = np.cos(timestamps * (2 * np.pi / year))"
      ],
      "execution_count": 45,
      "outputs": []
    },
    {
      "cell_type": "code",
      "metadata": {
        "id": "cbW--kQOlyjE"
      },
      "source": [
        "data.drop(columns=['Date Time'], inplace=True)"
      ],
      "execution_count": 46,
      "outputs": []
    },
    {
      "cell_type": "code",
      "metadata": {
        "id": "p3PLGO_JlyjG"
      },
      "source": [
        "np_data = data.to_numpy()"
      ],
      "execution_count": 47,
      "outputs": []
    },
    {
      "cell_type": "code",
      "metadata": {
        "id": "7vmg0UFzlyjH"
      },
      "source": [
        "train_steps = (train_index - lookback) // batch_size\n",
        "valid_steps = (valid_index - train_index - lookback -1) // batch_size\n",
        "test_steps = (len(np_data) - valid_index - lookback -1) // batch_size"
      ],
      "execution_count": 48,
      "outputs": []
    },
    {
      "cell_type": "code",
      "metadata": {
        "id": "8L7ODv8YlyjI"
      },
      "source": [
        "# scaling\n",
        "mean = np_data[:train_index].mean(axis=0)\n",
        "np_data -= mean\n",
        "std = np_data[:train_index].std(axis=0)\n",
        "np_data /= std"
      ],
      "execution_count": 49,
      "outputs": []
    },
    {
      "cell_type": "code",
      "metadata": {
        "id": "r2f3XroNlyjJ"
      },
      "source": [
        "train_gen = generator(np_data,\n",
        "                      lookback=lookback,\n",
        "                      future=future,\n",
        "                      min_index=0,\n",
        "                      max_index=train_index,\n",
        "                      shuffle=True,\n",
        "                      step=step, \n",
        "                      batch_size=batch_size)\n",
        "\n",
        "valid_gen = generator(np_data,\n",
        "                    lookback=lookback,\n",
        "                    future=future,\n",
        "                    min_index=train_index+1,\n",
        "                    max_index=valid_index,\n",
        "                    step=step,\n",
        "                    batch_size=batch_size)\n",
        "\n",
        "test_gen = generator(np_data,\n",
        "                     lookback=lookback,\n",
        "                     future=future,\n",
        "                     min_index=valid_index+1,\n",
        "                     max_index=None,\n",
        "                     step=step,\n",
        "                     batch_size=batch_size)"
      ],
      "execution_count": 50,
      "outputs": []
    },
    {
      "cell_type": "code",
      "metadata": {
        "id": "MtXrELQwlyjM"
      },
      "source": [
        "input_layer = layers.Input(shape=(timesteps_in_instance, 18), name='weather')\n",
        "\n",
        "x = layers.GRU(32, return_sequences=True)(input_layer)\n",
        "x = layers.GRU(32)(x)\n",
        "\n",
        "pres_pred = layers.Dense(1, name='pressure')(x)\n",
        "temp_pred = layers.Dense(1, name='temperature')(x)\n",
        "\n",
        "model = keras.Model(input_layer, [pres_pred, temp_pred])"
      ],
      "execution_count": 51,
      "outputs": []
    },
    {
      "cell_type": "code",
      "metadata": {
        "id": "onDfI8fAlyjO"
      },
      "source": [
        "model.compile(optimizer='rmsprop',\n",
        "              loss={'pressure': 'mae','temperature': 'mae'},\n",
        "              loss_weights={'pressure': 1., 'temperature': 1.})"
      ],
      "execution_count": 52,
      "outputs": []
    },
    {
      "cell_type": "code",
      "metadata": {
        "id": "ysG_nXzhlyjP"
      },
      "source": [
        "early_stopping = keras.callbacks.EarlyStopping(patience=3, restore_best_weights=True)\n",
        "checkpoint = keras.callbacks.ModelCheckpoint(filepath='/content/09_timeseries_gru_multi_period.keras', save_best_only=True, monitor='val_loss')"
      ],
      "execution_count": 53,
      "outputs": []
    },
    {
      "cell_type": "code",
      "metadata": {
        "colab": {
          "base_uri": "https://localhost:8080/"
        },
        "id": "mz2J21OflyjP",
        "outputId": "3d919347-abf8-4545-98e3-a32a3aa496c1"
      },
      "source": [
        "history = model.fit(train_gen,\n",
        "                    steps_per_epoch=train_steps,\n",
        "                    epochs=10,\n",
        "                    validation_data=valid_gen,\n",
        "                    validation_steps=valid_steps,\n",
        "                    callbacks=[early_stopping, checkpoint])"
      ],
      "execution_count": 54,
      "outputs": [
        {
          "output_type": "stream",
          "name": "stdout",
          "text": [
            "Epoch 1/10\n",
            "775/775 [==============================] - 89s 109ms/step - loss: 1.2161 - pressure_loss: 0.6077 - temperature_loss: 0.6084 - val_loss: 1.1087 - val_pressure_loss: 0.5544 - val_temperature_loss: 0.5543\n",
            "Epoch 2/10\n",
            "775/775 [==============================] - 84s 108ms/step - loss: 1.2007 - pressure_loss: 0.6004 - temperature_loss: 0.6003 - val_loss: 1.1082 - val_pressure_loss: 0.5539 - val_temperature_loss: 0.5543\n",
            "Epoch 3/10\n",
            "775/775 [==============================] - 84s 108ms/step - loss: 1.1847 - pressure_loss: 0.5924 - temperature_loss: 0.5923 - val_loss: 1.1119 - val_pressure_loss: 0.5557 - val_temperature_loss: 0.5562\n",
            "Epoch 4/10\n",
            "775/775 [==============================] - 84s 108ms/step - loss: 1.1752 - pressure_loss: 0.5877 - temperature_loss: 0.5875 - val_loss: 1.1194 - val_pressure_loss: 0.5597 - val_temperature_loss: 0.5596\n",
            "Epoch 5/10\n",
            "775/775 [==============================] - 84s 108ms/step - loss: 1.1692 - pressure_loss: 0.5847 - temperature_loss: 0.5845 - val_loss: 1.1275 - val_pressure_loss: 0.5639 - val_temperature_loss: 0.5636\n"
          ]
        }
      ]
    },
    {
      "cell_type": "code",
      "metadata": {
        "colab": {
          "base_uri": "https://localhost:8080/",
          "height": 284
        },
        "id": "Zm-7RONylyjQ",
        "outputId": "2e9aeec2-69e7-412e-82b7-94cd68eb5a88"
      },
      "source": [
        "pd.DataFrame(history.history)[['loss', 'val_loss']].plot()"
      ],
      "execution_count": 55,
      "outputs": [
        {
          "output_type": "execute_result",
          "data": {
            "text/plain": [
              "<matplotlib.axes._subplots.AxesSubplot at 0x7f1b111571d0>"
            ]
          },
          "metadata": {},
          "execution_count": 55
        },
        {
          "output_type": "display_data",
          "data": {
            "image/png": "[encoded data removed]",
            "text/plain": [
              "<Figure size 432x288 with 1 Axes>"
            ]
          },
          "metadata": {
            "needs_background": "light"
          }
        }
      ]
    },
    {
      "cell_type": "code",
      "metadata": {
        "colab": {
          "base_uri": "https://localhost:8080/"
        },
        "id": "8ZSQGrt3lyjS",
        "outputId": "6a719911-6f87-4da6-c836-88de65af83a8"
      },
      "source": [
        "np.min(history.history['val_loss'])"
      ],
      "execution_count": 56,
      "outputs": [
        {
          "output_type": "execute_result",
          "data": {
            "text/plain": [
              "1.1081653833389282"
            ]
          },
          "metadata": {},
          "execution_count": 56
        }
      ]
    },
    {
      "cell_type": "code",
      "metadata": {
        "id": "ZWw4hZIzlyjS"
      },
      "source": [
        "model = keras.models.load_model('/content/09_timeseries_gru_multi_period.keras')"
      ],
      "execution_count": 57,
      "outputs": []
    },
    {
      "cell_type": "code",
      "metadata": {
        "colab": {
          "base_uri": "https://localhost:8080/"
        },
        "id": "2YxRc4I2lyjT",
        "outputId": "c61cf33a-1497-4df3-d253-e2244be3a3fa"
      },
      "source": [
        "model.evaluate(test_gen, steps=test_steps)"
      ],
      "execution_count": 58,
      "outputs": [
        {
          "output_type": "stream",
          "name": "stdout",
          "text": [
            "465/465 [==============================] - 19s 38ms/step - loss: 1.2300 - pressure_loss: 0.6147 - temperature_loss: 0.6152\n"
          ]
        },
        {
          "output_type": "execute_result",
          "data": {
            "text/plain": [
              "[1.2299652099609375, 0.6147459149360657, 0.6152195930480957]"
            ]
          },
          "metadata": {},
          "execution_count": 58
        }
      ]
    },
    {
      "cell_type": "code",
      "metadata": {
        "id": "PUolhLMrlAdR"
      },
      "source": [
        ""
      ],
      "execution_count": null,
      "outputs": []
    }
  ]
}