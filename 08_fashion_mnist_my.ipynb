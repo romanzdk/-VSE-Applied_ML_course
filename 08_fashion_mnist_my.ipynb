{
  "nbformat": 4,
  "nbformat_minor": 0,
  "metadata": {
    "kernelspec": {
      "display_name": "Python 3",
      "language": "python",
      "name": "python3"
    },
    "language_info": {
      "codemirror_mode": {
        "name": "ipython",
        "version": 3
      },
      "file_extension": ".py",
      "mimetype": "text/x-python",
      "name": "python",
      "nbconvert_exporter": "python",
      "pygments_lexer": "ipython3",
      "version": "3.8.7"
    },
    "colab": {
      "name": "08_fashion_mnist_my.ipynb",
      "provenance": []
    },
    "accelerator": "GPU"
  },
  "cells": [
    {
      "cell_type": "code",
      "metadata": {
        "id": "74WeYrC23eFW"
      },
      "source": [
        "import tensorflow as tf\n",
        "from tensorflow import keras\n",
        "\n",
        "from keras.preprocessing.image import ImageDataGenerator\n",
        "from keras.models import Sequential\n",
        "from keras.layers import Dense, Dropout, Flatten, Conv2D, BatchNormalization, MaxPooling2D"
      ],
      "execution_count": 1,
      "outputs": []
    },
    {
      "cell_type": "markdown",
      "metadata": {
        "id": "xqY0efvO3eFZ"
      },
      "source": [
        "### Načteme data"
      ]
    },
    {
      "cell_type": "code",
      "metadata": {
        "id": "lc7_nc-B3eFo"
      },
      "source": [
        "(X_train_full, y_train_full), (X_test, y_test) = keras.datasets.fashion_mnist.load_data()"
      ],
      "execution_count": 2,
      "outputs": []
    },
    {
      "cell_type": "code",
      "metadata": {
        "id": "bxwT3APV3eFp"
      },
      "source": [
        "X_valid, X_train = X_train_full[:5000], X_train_full[5000:]\n",
        "y_valid, y_train = y_train_full[:5000], y_train_full[5000:]"
      ],
      "execution_count": 3,
      "outputs": []
    },
    {
      "cell_type": "markdown",
      "metadata": {
        "id": "UL8sgKZ93eFq"
      },
      "source": [
        "### Připravíme data"
      ]
    },
    {
      "cell_type": "code",
      "metadata": {
        "id": "e_aKeaAD3eFr"
      },
      "source": [
        "X_train = X_train / 255.\n",
        "X_valid = X_valid / 255.\n",
        "X_test = X_test / 255."
      ],
      "execution_count": 4,
      "outputs": []
    },
    {
      "cell_type": "code",
      "metadata": {
        "id": "a34Ld8KY3eFs"
      },
      "source": [
        "import numpy as np \n",
        "\n",
        "X_train = X_train[..., np.newaxis]\n",
        "X_valid = X_valid[..., np.newaxis]\n",
        "X_test = X_test[..., np.newaxis]"
      ],
      "execution_count": 5,
      "outputs": []
    },
    {
      "cell_type": "markdown",
      "metadata": {
        "id": "xKAUzdP93eFu"
      },
      "source": [
        "### Vytvoříme model"
      ]
    },
    {
      "cell_type": "code",
      "metadata": {
        "id": "Pp2dxF1U3eFv"
      },
      "source": [
        "model = tf.keras.Sequential()\n",
        "model.add(tf.keras.layers.Conv2D(64, 2, padding='same', activation='relu', input_shape=(28,28,1))) \n",
        "model.add(tf.keras.layers.MaxPooling2D()\n",
        "model.add(tf.keras.layers.Dropout(0.3))\n",
        "\n",
        "model.add(tf.keras.layers.Conv2D(32, 2, padding='same', activation='relu'))\n",
        "model.add(tf.keras.layers.MaxPooling2D())\n",
        "model.add(tf.keras.layers.Dropout(0.3))\n",
        "\n",
        "model.add(tf.keras.layers.Flatten())\n",
        "model.add(tf.keras.layers.Dense(256, activation='relu'))\n",
        "model.add(tf.keras.layers.Dropout(0.5))\n",
        "\n",
        "model.add(tf.keras.layers.Dense(10, activation='softmax'))\n",
        "\n",
        "model.compile(optimizer=\"adam\", loss=\"sparse_categorical_crossentropy\", metrics=[\"accuracy\"])"
      ],
      "execution_count": 7,
      "outputs": []
    },
    {
      "cell_type": "code",
      "metadata": {
        "colab": {
          "base_uri": "https://localhost:8080/"
        },
        "id": "tPKGSiaN3eFy",
        "outputId": "d6dc6a46-2db2-4508-b700-68435f8ceca9"
      },
      "source": [
        "model.summary()"
      ],
      "execution_count": 8,
      "outputs": [
        {
          "output_type": "stream",
          "name": "stdout",
          "text": [
            "Model: \"sequential_1\"\n",
            "_________________________________________________________________\n",
            " Layer (type)                Output Shape              Param #   \n",
            "=================================================================\n",
            " conv2d_3 (Conv2D)           (None, 28, 28, 64)        320       \n",
            "                                                                 \n",
            " max_pooling2d_2 (MaxPooling  (None, 14, 14, 64)       0         \n",
            " 2D)                                                             \n",
            "                                                                 \n",
            " dropout (Dropout)           (None, 14, 14, 64)        0         \n",
            "                                                                 \n",
            " conv2d_4 (Conv2D)           (None, 14, 14, 32)        8224      \n",
            "                                                                 \n",
            " max_pooling2d_3 (MaxPooling  (None, 7, 7, 32)         0         \n",
            " 2D)                                                             \n",
            "                                                                 \n",
            " dropout_1 (Dropout)         (None, 7, 7, 32)          0         \n",
            "                                                                 \n",
            " flatten (Flatten)           (None, 1568)              0         \n",
            "                                                                 \n",
            " dense (Dense)               (None, 256)               401664    \n",
            "                                                                 \n",
            " dropout_2 (Dropout)         (None, 256)               0         \n",
            "                                                                 \n",
            " dense_1 (Dense)             (None, 10)                2570      \n",
            "                                                                 \n",
            "=================================================================\n",
            "Total params: 412,778\n",
            "Trainable params: 412,778\n",
            "Non-trainable params: 0\n",
            "_________________________________________________________________\n"
          ]
        }
      ]
    },
    {
      "cell_type": "code",
      "metadata": {
        "id": "fTTm9GgN3eF1"
      },
      "source": [
        "early_stopping = keras.callbacks.EarlyStopping(patience=5, restore_best_weights=True)"
      ],
      "execution_count": 10,
      "outputs": []
    },
    {
      "cell_type": "code",
      "metadata": {
        "colab": {
          "base_uri": "https://localhost:8080/"
        },
        "id": "zK35gAYf3eF2",
        "outputId": "fe32afe9-3bbb-4264-e44c-600df3b44c9a"
      },
      "source": [
        "history = model.fit(X_train, y_train, epochs=20, validation_data=(X_valid, y_valid),\n",
        "                     callbacks=[early_stopping])"
      ],
      "execution_count": 11,
      "outputs": [
        {
          "output_type": "stream",
          "name": "stdout",
          "text": [
            "Epoch 1/20\n",
            "1719/1719 [==============================] - 48s 10ms/step - loss: 0.5648 - accuracy: 0.7918 - val_loss: 0.3555 - val_accuracy: 0.8696\n",
            "Epoch 2/20\n",
            "1719/1719 [==============================] - 16s 10ms/step - loss: 0.3950 - accuracy: 0.8568 - val_loss: 0.3006 - val_accuracy: 0.8922\n",
            "Epoch 3/20\n",
            "1719/1719 [==============================] - 16s 9ms/step - loss: 0.3508 - accuracy: 0.8724 - val_loss: 0.2652 - val_accuracy: 0.9058\n",
            "Epoch 4/20\n",
            "1719/1719 [==============================] - 16s 9ms/step - loss: 0.3230 - accuracy: 0.8817 - val_loss: 0.2548 - val_accuracy: 0.9084\n",
            "Epoch 5/20\n",
            "1719/1719 [==============================] - 16s 9ms/step - loss: 0.3035 - accuracy: 0.8879 - val_loss: 0.2406 - val_accuracy: 0.9128\n",
            "Epoch 6/20\n",
            "1719/1719 [==============================] - 16s 9ms/step - loss: 0.2906 - accuracy: 0.8927 - val_loss: 0.2405 - val_accuracy: 0.9144\n",
            "Epoch 7/20\n",
            "1719/1719 [==============================] - 16s 9ms/step - loss: 0.2820 - accuracy: 0.8961 - val_loss: 0.2253 - val_accuracy: 0.9156\n",
            "Epoch 8/20\n",
            "1719/1719 [==============================] - 16s 9ms/step - loss: 0.2722 - accuracy: 0.8994 - val_loss: 0.2273 - val_accuracy: 0.9126\n",
            "Epoch 9/20\n",
            "1719/1719 [==============================] - 16s 9ms/step - loss: 0.2626 - accuracy: 0.9019 - val_loss: 0.2293 - val_accuracy: 0.9110\n",
            "Epoch 10/20\n",
            "1719/1719 [==============================] - 16s 9ms/step - loss: 0.2568 - accuracy: 0.9056 - val_loss: 0.2189 - val_accuracy: 0.9194\n",
            "Epoch 11/20\n",
            "1719/1719 [==============================] - 16s 9ms/step - loss: 0.2506 - accuracy: 0.9069 - val_loss: 0.2198 - val_accuracy: 0.9176\n",
            "Epoch 12/20\n",
            "1719/1719 [==============================] - 16s 9ms/step - loss: 0.2469 - accuracy: 0.9075 - val_loss: 0.2133 - val_accuracy: 0.9190\n",
            "Epoch 13/20\n",
            "1719/1719 [==============================] - 16s 9ms/step - loss: 0.2425 - accuracy: 0.9104 - val_loss: 0.2119 - val_accuracy: 0.9212\n",
            "Epoch 14/20\n",
            "1719/1719 [==============================] - 16s 9ms/step - loss: 0.2391 - accuracy: 0.9104 - val_loss: 0.2092 - val_accuracy: 0.9220\n",
            "Epoch 15/20\n",
            "1719/1719 [==============================] - 16s 9ms/step - loss: 0.2329 - accuracy: 0.9118 - val_loss: 0.2125 - val_accuracy: 0.9226\n",
            "Epoch 16/20\n",
            "1719/1719 [==============================] - 16s 9ms/step - loss: 0.2290 - accuracy: 0.9145 - val_loss: 0.2152 - val_accuracy: 0.9194\n",
            "Epoch 17/20\n",
            "1719/1719 [==============================] - 16s 9ms/step - loss: 0.2265 - accuracy: 0.9161 - val_loss: 0.2050 - val_accuracy: 0.9244\n",
            "Epoch 18/20\n",
            "1719/1719 [==============================] - 16s 9ms/step - loss: 0.2223 - accuracy: 0.9165 - val_loss: 0.1988 - val_accuracy: 0.9270\n",
            "Epoch 19/20\n",
            "1719/1719 [==============================] - 16s 9ms/step - loss: 0.2237 - accuracy: 0.9169 - val_loss: 0.2086 - val_accuracy: 0.9254\n",
            "Epoch 20/20\n",
            "1719/1719 [==============================] - 16s 9ms/step - loss: 0.2172 - accuracy: 0.9174 - val_loss: 0.2111 - val_accuracy: 0.9230\n"
          ]
        }
      ]
    },
    {
      "cell_type": "code",
      "metadata": {
        "colab": {
          "base_uri": "https://localhost:8080/",
          "height": 282
        },
        "id": "Qzicnabf3eF3",
        "outputId": "09df00d8-ff83-4dc4-e075-ecf68faaa856"
      },
      "source": [
        "import pandas as pd\n",
        "pd.DataFrame(history.history)[['loss', 'val_loss']].plot()"
      ],
      "execution_count": 15,
      "outputs": [
        {
          "output_type": "execute_result",
          "data": {
            "text/plain": [
              "<matplotlib.axes._subplots.AxesSubplot at 0x7f701c15c510>"
            ]
          },
          "metadata": {},
          "execution_count": 15
        },
        {
          "output_type": "display_data",
          "data": {
            "image/png": "[encoded data removed]",
            "text/plain": [
              "<Figure size 432x288 with 1 Axes>"
            ]
          },
          "metadata": {
            "needs_background": "light"
          }
        }
      ]
    },
    {
      "cell_type": "code",
      "metadata": {
        "colab": {
          "base_uri": "https://localhost:8080/",
          "height": 282
        },
        "id": "rwdaPrJX3eF3",
        "outputId": "afd0f3e5-0b6b-41f7-ea05-517ab63f493e"
      },
      "source": [
        "pd.DataFrame(history.history)[['accuracy', 'val_accuracy']].plot()"
      ],
      "execution_count": 16,
      "outputs": [
        {
          "output_type": "execute_result",
          "data": {
            "text/plain": [
              "<matplotlib.axes._subplots.AxesSubplot at 0x7f7091385a90>"
            ]
          },
          "metadata": {},
          "execution_count": 16
        },
        {
          "output_type": "display_data",
          "data": {
            "image/png": "[encoded data removed]",
            "text/plain": [
              "<Figure size 432x288 with 1 Axes>"
            ]
          },
          "metadata": {
            "needs_background": "light"
          }
        }
      ]
    },
    {
      "cell_type": "markdown",
      "metadata": {
        "id": "fe5A4eQr3eF4"
      },
      "source": [
        "### Vyzkoušíme na testovacích datech"
      ]
    },
    {
      "cell_type": "code",
      "metadata": {
        "colab": {
          "base_uri": "https://localhost:8080/"
        },
        "id": "6Abkiv8X3eF5",
        "outputId": "5b6ceaa8-59ae-4c01-8d81-f9a6a4e8cfb3"
      },
      "source": [
        "model.evaluate(X_test, y_test)"
      ],
      "execution_count": 14,
      "outputs": [
        {
          "output_type": "stream",
          "name": "stdout",
          "text": [
            "313/313 [==============================] - 1s 4ms/step - loss: 0.2225 - accuracy: 0.9225\n"
          ]
        },
        {
          "output_type": "execute_result",
          "data": {
            "text/plain": [
              "[0.22245390713214874, 0.9225000143051147]"
            ]
          },
          "metadata": {},
          "execution_count": 14
        }
      ]
    },
    {
      "cell_type": "markdown",
      "metadata": {
        "id": "XL5xdN7e3eF5"
      },
      "source": [
        "**Pomocí DNN nebo SVM jsme se dostali na 88% správnost, zde jsme na 91 %. Chyba se tedy zmenšila relativně o zhruba 30 %.**"
      ]
    }
  ]
}